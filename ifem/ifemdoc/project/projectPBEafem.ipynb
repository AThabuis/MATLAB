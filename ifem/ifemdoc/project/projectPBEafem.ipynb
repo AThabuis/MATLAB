{
 "cells": [
  {
   "cell_type": "markdown",
   "metadata": {},
   "source": [
    "# Project: AFEM for Nonlinear Poisson Boltzmann Equation\n",
    "\n",
    "The purpose of this project is to test Newton's method combined with\n",
    "adaptivity for solving the nonlinear elliptic equation. The example is\n",
    "the nonlinear Poisson-Boltzmann equation for the potential u\n",
    "corresponding to a given charge density $\\rho (x)$ reads\n",
    "\n",
    "$$ -\\Delta u + k^2 \\sinh (u) = \\rho (x) $$\n",
    "\n",
    "for $x\\in \\Omega$, and $u|_{\\partial \\Omega} = g.$\n",
    "\n",
    "For $k = 1$ and $\\rho = 0$, an exact solution in 1-d is given by \n",
    "\n",
    "$$ \\bar u(s) = \\ln \\left ( \\frac{1+\\cos (s)}{1-\\cos (s)}\\right).$$ \n",
    "\n",
    "We consider a 2-d problem on the unit square $\\Omega = (0,1)^2$. Let\n",
    "$\\boldsymbol a=(1.0,2.0)/\\sqrt{5}$. We choose $k =1, \\rho$, and $g$ such that\n",
    "the exact solution is \n",
    "\n",
    "$$u(\\boldsymbol x) = \\bar u(0.1+\\boldsymbol a\\cdot\\boldsymbol x).$$"
   ]
  },
  {
   "cell_type": "markdown",
   "metadata": {},
   "source": [
    "## Step 1: Linearied Poisson Boltzmann Equation\n",
    "\n",
    "* Given a current approximation of u, derive the linearized Poisson-Boltzmann equation (LPBE) at u.\n",
    "\n",
    "* Assemble the matrix equation for the LPBE. Besides the matrix of Laplacian operator, you need to compute the mass matrix corresponding to the L2 inner product. You can use three vertices quadrature rule i.e.\n",
    "\n",
    "    $$\\int _{\\tau} f(x) dx = \\frac{1}{3}\\sum _{i=1}^3f(x_i)|\\tau|.$$ \n",
    "\n",
    "    Then the mass matrix becomes diagonal. This is known as mass lumping.\n",
    "\n",
    "* Use the direct solver to solve the matrix equation.\n",
    "\n",
    "* Use a multigrid solver (e.g. amg) to solve the matrix equation. You can use your own multigrid methods or call `amg` in ifem."
   ]
  },
  {
   "cell_type": "markdown",
   "metadata": {},
   "source": [
    "## Step 2: Newton's method on uniform grids\n",
    "\n",
    "* Implement the Newton's method. Control the relative error of the residual in the stopping criteria.\n",
    "\n",
    "* Change the tolerance or max iteration steps in multigrid solver and collect a table of total iteration steps and cpu time for different choices of inner iteration.\n",
    "\n",
    "* Uniform refine the grid and list the iteration steps to reach `1e-6` for different h and compute the approximation error in $H^1$ norm."
   ]
  },
  {
   "cell_type": "markdown",
   "metadata": {},
   "source": [
    "## Step 3: Adaptivity\n",
    "\n",
    "* Run 2D examples: `Lshape`, `crack` and `Kellogg` in iFEM and read the code to learn the usage of AFEM.\n",
    "\n",
    "* In each Newton iteration, apply the local mesh refinement for the linearized Poisson-Boltzmann equation. You can chose either recovery type or residual type error estimator and the number of local refinement.\n",
    "\n",
    "* Compare the convergent rate for uniformly refined grids and locally refined grids."
   ]
  },
  {
   "cell_type": "markdown",
   "metadata": {},
   "source": [
    "## Step 4: Two-grid Method\n",
    "\n",
    "* Apply adaptive Newton's method in Step 3 on a coarse grid.\n",
    "* Refine the grid several times by `uniformrefine`. Get the `HB` output.\n",
    "* Use `nodeinterpolate` to inerpolate a funciton in coarse grid to the fine grid during the refinement.\n",
    "* Apply one Newton iteration in the fine grid and possible local refinement.\n",
    "* Compare the computation time for methods in Step 3 and Step 4."
   ]
  }
 ],
 "metadata": {
  "kernelspec": {
   "display_name": "Matlab",
   "language": "matlab",
   "name": "matlab"
  },
  "language_info": {
   "codemirror_mode": "octave",
   "file_extension": ".m",
   "help_links": [
    {
     "text": "MetaKernel Magics",
     "url": "https://github.com/calysto/metakernel/blob/master/metakernel/magics/README.md"
    }
   ],
   "mimetype": "text/x-matlab",
   "name": "matlab",
   "version": "0.14.3"
  },
  "toc": {
   "colors": {
    "hover_highlight": "#DAA520",
    "navigate_num": "#000000",
    "navigate_text": "#333333",
    "running_highlight": "#FF0000",
    "selected_highlight": "#FFD700",
    "sidebar_border": "#EEEEEE",
    "wrapper_background": "#FFFFFF"
   },
   "moveMenuLeft": true,
   "nav_menu": {
    "height": "102px",
    "width": "252px"
   },
   "navigate_menu": true,
   "number_sections": true,
   "sideBar": true,
   "threshold": 4,
   "toc_cell": false,
   "toc_section_display": "block",
   "toc_window_display": false,
   "widenNotebook": false
  }
 },
 "nbformat": 4,
 "nbformat_minor": 2
}
