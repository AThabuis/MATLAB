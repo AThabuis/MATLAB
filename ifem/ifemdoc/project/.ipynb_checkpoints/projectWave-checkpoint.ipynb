{
 "cells": [
  {
   "cell_type": "markdown",
   "metadata": {},
   "source": [
    "# Project: Wave Equation\n",
    "\n",
    "In this project we will implement finite element and finite difference methods for solving the wave equation. "
   ]
  },
  {
   "cell_type": "markdown",
   "metadata": {},
   "source": [
    "## Wave Equation\n",
    "\n",
    "We consider the wave equation\n",
    "\\begin{align*}\n",
    "u_{tt} - \\Delta u &= f, \\quad x\\in \\Omega, t\\in (0,T],\\\\\n",
    "u(x,0) &= g(x), \\quad x\\in \\Omega,\\\\\n",
    "u_{t}(x,0) &= h(x), \\quad x\\in \\Omega,\\\\\n",
    "u &= u_D, \\quad x\\in \\partial \\Omega, t\\in (0,T].\n",
    "\\end{align*}"
   ]
  },
  {
   "cell_type": "markdown",
   "metadata": {},
   "source": [
    "## Leapfrog Method\n",
    "\n",
    "It is a second order explicit method for solving the wave equation. \n",
    "\n",
    "$$ (1) \\quad \\frac{u_j^{n+1}-2u_j^n+ u_{j}^{n-1}}{(\\Delta t)^2} - (\\Delta _h u^n)_j\n",
    "= f^n_j,$$\n",
    "where $u_j^n$ represents the function at the $n$-th time step $t_n = n\\delta t$ and $j$-th node in space, and $\\Delta _h$ is a discretization of $\\Delta$ operator using either finite difference or finite element method. You are free to chose the one you like. When using finite element methods, you can use the mass lumping and multiply the inverse of the mass matrix to get a formulation like (1).\n",
    "\n",
    "Choose $u^0$ by the nodal interpolation, i.e., $u^0_j=g(x_j)$. To get\n",
    "$u^1$, we introduce the ghost point $u^{-1}$ and discretizate the\n",
    "initial velocity using the central difference:\n",
    "\n",
    "$$ (2) \\quad \\frac{u^1_j-u^{-1}_j}{2\\Delta t} = h(x_j). $$\n",
    "\n",
    "We use (1) and (2) at $n =0$ to eliminate the ghost point and obtain a\n",
    "formula for $u^1$. "
   ]
  },
  {
   "cell_type": "markdown",
   "metadata": {},
   "source": [
    "## Test Example\n",
    "\n",
    "We choose the domain as $\\Omega = (0,12)\\times (0,12)$ and the source term as\n",
    "\n",
    "$$ f(x,t) = \\exp(-7|x-x_S|) 2a(2a(t-b)^2-1)\\exp(-a(t-b)^2), $$ where\n",
    "$$ a = (\\frac{\\pi}{1.31})^2, \\quad b=1.35, \\quad x_S = (6,6). $$\n",
    "\n",
    "The boundary and initial conditions\n",
    "\n",
    "$$ g = h = 0, \\quad u_D = 0. $$\n",
    "\n",
    "* Check the rate of convergence is second order in both time and space. \n",
    "\n",
    "    *Hint* When the exact solution is not known, use the double grid principle to estimate the errors. That is, compute the difference between solutions of two consective meshes (the finer one is the uniform refinemen of the coarser one). \n",
    "\n",
    "    When you verify the rate of `h`, choose `dt` small enough. Similarly fix a small `h` and vary `dt` to verify the rate in time. "
   ]
  },
  {
   "cell_type": "markdown",
   "metadata": {},
   "source": [
    "## Step 3: Visulization\n",
    "\n",
    "- Use `showsolution(node,elem,u)` to plot the solution and together with `pause(0.01)` to get an animation. Use `axis` to fix the axis scaling.\n",
    "\n",
    "> For small time step, do not plot the solution at every time step. Instead plot every 10 or 100 steps.\n",
    "\n",
    "- You can save the plot into a movie. Read `doc getframe` for an example."
   ]
  }
 ],
 "metadata": {
  "kernelspec": {
   "display_name": "Matlab",
   "language": "matlab",
   "name": "matlab"
  },
  "language_info": {
   "codemirror_mode": "octave",
   "file_extension": ".m",
   "help_links": [
    {
     "text": "MetaKernel Magics",
     "url": "https://github.com/calysto/metakernel/blob/master/metakernel/magics/README.md"
    }
   ],
   "mimetype": "text/x-matlab",
   "name": "matlab",
   "version": "0.14.3"
  },
  "toc": {
   "colors": {
    "hover_highlight": "#DAA520",
    "navigate_num": "#000000",
    "navigate_text": "#333333",
    "running_highlight": "#FF0000",
    "selected_highlight": "#FFD700",
    "sidebar_border": "#EEEEEE",
    "wrapper_background": "#FFFFFF"
   },
   "moveMenuLeft": true,
   "nav_menu": {
    "height": "84px",
    "width": "252px"
   },
   "navigate_menu": true,
   "number_sections": true,
   "sideBar": true,
   "threshold": 4,
   "toc_cell": false,
   "toc_section_display": "block",
   "toc_window_display": false,
   "widenNotebook": false
  }
 },
 "nbformat": 4,
 "nbformat_minor": 2
}
