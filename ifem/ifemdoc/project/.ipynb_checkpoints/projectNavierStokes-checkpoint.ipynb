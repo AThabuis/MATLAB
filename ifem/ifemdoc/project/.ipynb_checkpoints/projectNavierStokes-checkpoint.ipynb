{
 "cells": [
  {
   "cell_type": "markdown",
   "metadata": {},
   "source": [
    "# Project: Transient Navier-Stokes Equations\n",
    "\n",
    "The purpose of this project is to implement numerical methods for solving\n",
    "time-dependent Navier-Stokes equations in two dimensions."
   ]
  },
  {
   "cell_type": "markdown",
   "metadata": {},
   "source": [
    "## Test problem: Flow past a cylinder\n",
    "\n",
    "The domain is \n",
    "\n",
    "$$ (0,2.2)\\times (0,0.41) - \\{(x,y) | (x-0.2)^2+(y-0.2)^2 <= 0.05^2\\}. $$\n",
    "\n",
    "The center of the cylinder is slightly off the center of the channel\n",
    "vertically which eventually leads to asymmetry in the flow. \n",
    "\n",
    "We are solving the Navier-Stokes equation\n",
    "\n",
    "$$ \\boldsymbol u_t -\\nu \\Delta \\boldsymbol u + (\\boldsymbol u\\cdot \\nabla) \\boldsymbol u + \\nabla p = f $$\n",
    "\n",
    "$$ \\nabla \\cdot \\boldsymbol u = 0 $$\n",
    "\n",
    "The time-dependent inflow boundary condition on the left is\n",
    "\n",
    "$$ \\boldsymbol u(t,0,y) = 0.41^{-2}\\sin(\\pi t/8)(6y(0.41-y), 0) $$\n",
    "\n",
    "The outflow boundary condition on the right $$ \\{x= 2.2\\} $$ is\n",
    "\n",
    "$$ \\nu \\partial_n \\boldsymbol u - p \\boldsymbol n = 0 $$\n",
    "\n",
    "On the other part of the boundary, no-slip boundary condition $$ \\boldsymbol u = 0 $$\n",
    "is imposed.\n",
    "\n",
    "The initial condition is zero $$ \\boldsymbol u(0; x,y) = \\boldsymbol 0. $$\n",
    "\n",
    "The body force is zero too $$ \\boldsymbol f = \\boldsymbol 0. $$\n",
    "\n",
    "We choose $$ \\nu = 10^{-3}. $$ Since the maximum velocity is one and the\n",
    "diameter of the cylinder is 0.1, the Reynolds number of the flow is 100."
   ]
  },
  {
   "cell_type": "markdown",
   "metadata": {},
   "source": [
    "## Step 1: Mesh\n",
    "\n",
    "Download the mesh [flowpastcylindermesh.mat](http://math.uci.edu/~chenlong/226/flowpastcylindermesh.mat) and load it in Matlab."
   ]
  },
  {
   "cell_type": "code",
   "execution_count": 1,
   "metadata": {},
   "outputs": [
    {
     "data": {
      "image/png": "[encoded data removed]",
      "text/plain": [
       "<IPython.core.display.Image object>"
      ]
     },
     "metadata": {},
     "output_type": "display_data"
    }
   ],
   "source": [
    "load flowpastcylindermesh\n",
    "showmesh(node,elem);"
   ]
  },
  {
   "cell_type": "markdown",
   "metadata": {},
   "source": [
    "Uniform refine this coarse grid, and project the circular\n",
    "part back to the circle."
   ]
  },
  {
   "cell_type": "markdown",
   "metadata": {},
   "source": [
    "## Step 2: FEM for convection-diffusion-reaction equations\n",
    "\n",
    "Choose either non-conforming P1 - P0 or iso P2-P0 elements.\n",
    "\n",
    "Besides the matrix for Laplacian and divergence operator, you need to\n",
    "compute one more matrix for the convection term $$ ((\\boldsymbol w\\cdot \\nabla)\\boldsymbol u, \\boldsymbol \\phi) $$\n",
    "and the mass matrix for the reaction term $$ ( \\boldsymbol u, \\boldsymbol \\phi). $$\n",
    "\n",
    "The mass matrix for non-conforming P1 is diagonal. For P1 element, use\n",
    "mass lumping to compute a diagonal mass matrix.\n",
    "\n",
    "For convection term, first write out component-wise weakformulation and\n",
    "compute the element-wise entry and finally assemble the matrix. Note that\n",
    "the derivative of a linear basis is constant which can be factor out the\n",
    "integral and one-point quadrature is good enough.\n",
    "\n",
    "Test your code for a scalar convection-diffusion-reaction equation\n",
    "\n",
    "$$ - \\Delta u + w_1 \\partial _x u + w_2 \\partial _y u + \\alpha u = f $$\n",
    "\n",
    "by choosing a smooth function and moderate convection coefficient."
   ]
  },
  {
   "cell_type": "markdown",
   "metadata": {},
   "source": [
    "## Step 3: Time Discretization and Nonlinear Iteration\n",
    "\n",
    "* Implement Crack-Nicolson method for time discretization with `dt = 0.0025`  which leads in each discrete time step to a non-linear system of equations.\n",
    "\n",
    "* Use Picard (fixed point) iteration to solve the nonlinear problem. The fixed point iteration was stopped if the Euclidean norm of the residual vector was less than `1e-8`.\n",
    "\n",
    "* Discretization of the linear systems in space by either non-conforming P1 - P0 or isoP2-P0 elements. Solve the algebraic system using direct solver (backslash) in Matlab."
   ]
  },
  {
   "cell_type": "markdown",
   "metadata": {},
   "source": [
    "## Step 4: GMRES method for solving the linearied problem\n",
    "\n",
    "Suppose the linear saddle point system system is $\\begin{pmatrix}F & B'\\\\ B & 0 \\end{pmatrix}$. Use the block-triangular preconditioner $\\begin{pmatrix}F & B'\\\\ 0 & -BF^{-1}B'\\end{pmatrix}^{-1}$ and `gmres` to solve the linear system to the tolerence `1e-6`. \n",
    "\n",
    "The inverse of the Schur complement is approximated by the\n",
    "least-square commutator\n",
    "\n",
    "$$ (BF^{-1}B')^{-1} \\approx A_p^{-1}F_pA_p^{-1} $$\n",
    "\n",
    "where \n",
    "\n",
    "$$ F_p = BM_u^{-1}FM_h^{-1}B', \\quad A_p = BM_u^{-1}B'. $$\n",
    "\n",
    "The Poisson solver $A_p^{-1}$ can be replaced by the direct solver or\n",
    "one V-cycle."
   ]
  },
  {
   "cell_type": "markdown",
   "metadata": {},
   "source": [
    "## Step 5: Evaluation of the Computational Results"
   ]
  }
 ],
 "metadata": {
  "kernelspec": {
   "display_name": "Matlab",
   "language": "matlab",
   "name": "matlab"
  },
  "language_info": {
   "codemirror_mode": "octave",
   "file_extension": ".m",
   "help_links": [
    {
     "text": "MetaKernel Magics",
     "url": "https://github.com/calysto/metakernel/blob/master/metakernel/magics/README.md"
    }
   ],
   "mimetype": "text/x-matlab",
   "name": "matlab",
   "version": "0.14.3"
  },
  "toc": {
   "colors": {
    "hover_highlight": "#DAA520",
    "navigate_num": "#000000",
    "navigate_text": "#333333",
    "running_highlight": "#FF0000",
    "selected_highlight": "#FFD700",
    "sidebar_border": "#EEEEEE",
    "wrapper_background": "#FFFFFF"
   },
   "moveMenuLeft": true,
   "nav_menu": {
    "height": "138px",
    "width": "252px"
   },
   "navigate_menu": true,
   "number_sections": true,
   "sideBar": true,
   "threshold": 4,
   "toc_cell": false,
   "toc_section_display": "block",
   "toc_window_display": false,
   "widenNotebook": false
  }
 },
 "nbformat": 4,
 "nbformat_minor": 2
}
