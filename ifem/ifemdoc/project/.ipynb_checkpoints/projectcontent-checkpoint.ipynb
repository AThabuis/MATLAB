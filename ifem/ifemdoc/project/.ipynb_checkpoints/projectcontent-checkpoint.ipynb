{
 "cells": [
  {
   "cell_type": "markdown",
   "metadata": {},
   "source": [
    "# Projects\n",
    "\n",
    "The best way to learn iFEM is to do the following projects designed for Math 226: Numerical PDE in UC Irvine. \n",
    "\n",
    "* [Finite Difference Methods in 1-D](projectFDM1D.html)\n",
    "* [Finite Difference Methods](projectFDM.html)\n",
    "* [Linear Finite Element Method](projectFEM.html)\n",
    "* [Fast Multipole Methods](projectFMM.html)\n",
    "* [Multigrid Methods](projectMG.html)\n",
    "* [Nonlinear Poisson Boltzmann Equation](projectPBE.html)\n",
    "* [Adaptive FEM for PBE](projectPBEafem.html)\n",
    "* [Adaptive FEM for Heat Equation](projectHeat.html) \n",
    "* [Finite Element Methods for Stokes equations](projectStokes.html)\n",
    "* [MAC Scheme for Stokes equations](projectStokesMAC.html)\n",
    "* [Fast Solvers for Stokes equations](projectStokesSolver.html)\n",
    "* [Transient Navier-Stokes Equations](projectNavierStokes.html)\n",
    "* [Edge element for Maxwell Equations](projectMaxwell.html)\n",
    "* [Wave equations](projectWave.html)"
   ]
  }
 ],
 "metadata": {
  "kernelspec": {
   "display_name": "Matlab",
   "language": "matlab",
   "name": "matlab"
  },
  "language_info": {
   "codemirror_mode": "octave",
   "file_extension": ".m",
   "help_links": [
    {
     "text": "MetaKernel Magics",
     "url": "https://github.com/calysto/metakernel/blob/master/metakernel/magics/README.md"
    }
   ],
   "mimetype": "text/x-matlab",
   "name": "matlab",
   "version": "0.14.3"
  },
  "toc": {
   "colors": {
    "hover_highlight": "#DAA520",
    "navigate_num": "#000000",
    "navigate_text": "#333333",
    "running_highlight": "#FF0000",
    "selected_highlight": "#FFD700",
    "sidebar_border": "#EEEEEE",
    "wrapper_background": "#FFFFFF"
   },
   "moveMenuLeft": true,
   "nav_menu": {
    "height": "12px",
    "width": "252px"
   },
   "navigate_menu": true,
   "number_sections": true,
   "sideBar": true,
   "threshold": 4,
   "toc_cell": false,
   "toc_section_display": "block",
   "toc_window_display": false,
   "widenNotebook": false
  }
 },
 "nbformat": 4,
 "nbformat_minor": 2
}
