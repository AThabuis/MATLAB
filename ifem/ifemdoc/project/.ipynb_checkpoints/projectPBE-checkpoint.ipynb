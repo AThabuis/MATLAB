{
 "cells": [
  {
   "cell_type": "markdown",
   "metadata": {},
   "source": [
    "# Project: Nonlinear Poisson Boltzmann Equation\n",
    "\n",
    "The purpose of this project is to implement Newton's method, two-grid and nonlinear multigrid method (FAS) for solving the nonlinear elliptic equation. The example is the nonlinear\n",
    "Poisson-Boltzmann equation for the potential $u$ corresponding to a given\n",
    "charge density reads\n",
    "\n",
    "$$ -\\Delta u + k^2 \\sinh (u) = \\rho (x) $$\n",
    "\n",
    "for $x\\in \\Omega\\subset \\mathbb R^d$, and with Dirichlet boundary condition $u|_{\\partial \\Omega} = g.$\n",
    "\n",
    "For $k = 1$ and $\\rho = 0$, an exact solution in 1-d is given by \n",
    "\n",
    "$$ \\bar u(s) = \\ln \\left ( \\frac{1+\\cos (s)}{1-\\cos (s)}\\right).$$ \n",
    "\n",
    "We consider a 2-d problem on the unit square $\\Omega = (0,1)^2$. Let\n",
    "$\\boldsymbol a=(1.0,2.0)/\\sqrt{5}$. We choose $k =1, \\rho$, and $g$ such that\n",
    "the exact solution is \n",
    "\n",
    "$$u(\\boldsymbol x) = \\bar u(0.1+\\boldsymbol a\\cdot\\boldsymbol x).$$"
   ]
  },
  {
   "cell_type": "markdown",
   "metadata": {},
   "source": [
    "## Step 1: Linearied Poisson Boltzmann Equation\n",
    "\n",
    "* Given a current approximation of u, derive the linearized Poisson-Boltzmann equation (LPBE) at u.\n",
    "\n",
    "* Assemble the matrix equation for the LPBE. Besides the matrix of Laplacian operator, you need to compute the mass matrix corresponding to the L2 inner product. You can use three vertices quadrature rule i.e.\n",
    "\n",
    "    $$\\int _{\\tau} f(x) dx = \\frac{1}{3}\\sum _{i=1}^3f(x_i)|\\tau|.$$ \n",
    "\n",
    "    Then the mass matrix becomes diagonal. This is known as mass lumping.\n",
    "\n",
    "* Use the direct solver \\ to solve the matrix equation.\n",
    "\n",
    "* Use a multigrid solver (e.g. amg) to solve the matrix equation. You can use your own multigrid solver or call `amg` in ifem."
   ]
  },
  {
   "cell_type": "markdown",
   "metadata": {},
   "source": [
    "## Step 2: Newton's Method\n",
    "\n",
    "* Implement the Newton's method. Control the relative error of the residual in the stopping criteria.\n",
    "\n",
    "* Change the tolerance or maximum iteration steps in the multigrid solver and collect a table of total iteration steps and cpu time for different choices of inner iteration steps.\n",
    "\n",
    "* Uniform refine the grid and list the iteration steps to reach `1e-6` for different h and compute the approximation error in $H_1(\\Omega)$ norm."
   ]
  },
  {
   "cell_type": "markdown",
   "metadata": {},
   "source": [
    "## Step 3: Two-Grid Method\n",
    "\n",
    "* Apply Newton's method in Step 2 to $H = 1/4$ to obtain a solution $u_H$\n",
    "\n",
    "* Prolongate $u_H$ to a fine space with $h = H^2$ by using the prolongation matrix or subroutine [Project: Multigrid Methods](projectMG.html)\n",
    "\n",
    "* Solve one fixed iteration or one Newton's iteration in the fine grid to obtain $u_h$\n",
    "\n",
    "* Change $H$ from 1/4 to 1/16 and show the error for $u_h$ in $H_1(\\Omega)$ norm."
   ]
  },
  {
   "cell_type": "markdown",
   "metadata": {},
   "source": [
    "## Step 4: Nonlinear Multigrid: FAS\n",
    "\n",
    "* Implement the nonlinear Gauss-Seidel smoother.\n",
    "\n",
    "* Test the two level version of FAS.\n",
    "\n",
    "* Change two level FAS to V-cycle FAS by recrusion.\n",
    "\n",
    "* Compare the convergence of FAS with Newton's method and Two-Grid method."
   ]
  }
 ],
 "metadata": {
  "kernelspec": {
   "display_name": "Matlab",
   "language": "matlab",
   "name": "matlab"
  },
  "language_info": {
   "codemirror_mode": "octave",
   "file_extension": ".m",
   "help_links": [
    {
     "text": "MetaKernel Magics",
     "url": "https://github.com/calysto/metakernel/blob/master/metakernel/magics/README.md"
    }
   ],
   "mimetype": "text/x-matlab",
   "name": "matlab",
   "version": "0.14.3"
  },
  "toc": {
   "colors": {
    "hover_highlight": "#DAA520",
    "navigate_num": "#000000",
    "navigate_text": "#333333",
    "running_highlight": "#FF0000",
    "selected_highlight": "#FFD700",
    "sidebar_border": "#EEEEEE",
    "wrapper_background": "#FFFFFF"
   },
   "moveMenuLeft": true,
   "nav_menu": {
    "height": "102px",
    "width": "252px"
   },
   "navigate_menu": true,
   "number_sections": true,
   "sideBar": true,
   "threshold": 4,
   "toc_cell": false,
   "toc_section_display": "block",
   "toc_window_display": false,
   "widenNotebook": false
  }
 },
 "nbformat": 4,
 "nbformat_minor": 2
}
