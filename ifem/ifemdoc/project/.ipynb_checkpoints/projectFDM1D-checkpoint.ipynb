{
 "cells": [
  {
   "cell_type": "markdown",
   "metadata": {},
   "source": [
    "# Project: 1-D Finite Difference Method\n",
    "\n",
    "The purpose of this project is to introduce the finite difference method for solving differential equations in 1-D. Consider 1-D Poisson equation in $(0,1)$ with Dirichlet boundary condition\n",
    "\n",
    "$$ - u'' = f \\,\\; {\\rm in }\\, (0,1), \\quad u(0) = a, u(1) = b. $$"
   ]
  },
  {
   "cell_type": "markdown",
   "metadata": {},
   "source": [
    "## Step 1: Generate a grid\n",
    "\n",
    "Generate a vector representing a uniform grid with size `h` of (0,1)."
   ]
  },
  {
   "cell_type": "code",
   "execution_count": 1,
   "metadata": {},
   "outputs": [
    {
     "data": {
      "image/png": "[encoded data removed]",
      "text/plain": [
       "<IPython.core.display.Image object>"
      ]
     },
     "metadata": {},
     "output_type": "display_data"
    }
   ],
   "source": [
    "N = 10;\n",
    "x = linspace(0,1,N);\n",
    "plot(x,0,'b.','Markersize',16)"
   ]
  },
  {
   "cell_type": "markdown",
   "metadata": {},
   "source": [
    "## Step 2: Generate A Matrix Equation\n",
    "\n",
    "Based on a grid, the function $u$ is discretized by a vector `u`. The\n",
    "derivative $u', u''$ are approximated by centeral finite difference:\n",
    "\n",
    "$$ u'(x_i) \\approx \\frac{u(i+1) - u(i-1)}{2h}$$\n",
    "\n",
    "$$ u''(x_i) \\approx \\frac{u(i-1) - 2u(i) + u(i+1)}{h^2}$$ \n",
    "\n",
    "The equation $-u''(x) = f(x)$ is discretized at $x_i, i=1,...,N$ as\n",
    "\n",
    "$$ \\frac{-u(i-1) + 2u(i) - u(i+1)}{h^2} \\quad = f(i),$$\n",
    "\n",
    "where $f(i) = f(x_i)$. These linear equations can be written as a matrix\n",
    "equation `A*u = f`, where `A` is a tri-diagonal matrix `(-1,2,-1)/h^2`."
   ]
  },
  {
   "cell_type": "code",
   "execution_count": 1,
   "metadata": {},
   "outputs": [
    {
     "name": "stdout",
     "output_type": "stream",
     "text": [
      "\n",
      "ans =\n",
      "\n",
      "    -2     1     0     0     0\n",
      "     1    -2     1     0     0\n",
      "     0     1    -2     1     0\n",
      "     0     0     1    -2     1\n",
      "     0     0     0     1    -2\n",
      "\n"
     ]
    }
   ],
   "source": [
    "n = 5;\n",
    "e = ones(n,1);\n",
    "A = spdiags([e -2*e e], -1:1, n, n);\n",
    "display(full(A));"
   ]
  },
  {
   "cell_type": "markdown",
   "metadata": {},
   "source": [
    "We use `spdiags` to speed up the generation of the matrix since the matrix is sparse. Compare `diag` and `spdiags`."
   ]
  },
  {
   "cell_type": "markdown",
   "metadata": {},
   "source": [
    "## Stpe 3: Modify the Matrix Equation to Impose Boundary Conditions\n",
    "\n",
    "The discretization fails at boundary vertices since no nodes outside the\n",
    "interval. Howevery the boundary value is given by the problem: `u(1) = a,\n",
    "u(N) = b`.\n",
    "\n",
    "These two equations can be included in the matrix by changing `A(1,:) =\n",
    "[1, 0 ..., 0]` and `A(:,N) = [0, 0, ..., 1]` and `f(1) = a/h^2, f(N) =\n",
    "b/h^2`."
   ]
  },
  {
   "cell_type": "code",
   "execution_count": 2,
   "metadata": {},
   "outputs": [
    {
     "name": "stdout",
     "output_type": "stream",
     "text": [
      "\n",
      "ans =\n",
      "\n",
      "     1     0     0     0     0\n",
      "     1    -2     1     0     0\n",
      "     0     1    -2     1     0\n",
      "     0     0     1    -2     1\n",
      "     0     0     0     0     1\n",
      "\n"
     ]
    }
   ],
   "source": [
    "A(1,1) = 1;\n",
    "A(1,2) = 0;\n",
    "A(n,n) = 1;\n",
    "A(n,n-1) = 0;\n",
    "display(full(A));"
   ]
  },
  {
   "cell_type": "markdown",
   "metadata": {},
   "source": [
    "## Step 4: Test the Correctness \n",
    "\n",
    "    [u,x] = poisson1D(0,1,5);\n",
    "    plot(x,sin(x),x,u,'r*');\n",
    "    legend('exact solution','approximate solution')\n",
    "\n",
    "Choose an exact solution $u=\\sin(x)$ and run your code to show the computed solution fits well on the curve of the true solution."
   ]
  },
  {
   "cell_type": "markdown",
   "metadata": {},
   "source": [
    "## Step 5: Check the Convergence Rate\n",
    "\n",
    "    err = zeros(4,1);\n",
    "    h = zeros(4,1);\n",
    "    for k = 1:4\n",
    "        [u,x] = poisson1D(0,1,2^k+1);\n",
    "        uI = sin(x);\n",
    "        err(k) = max(abs(u-uI));\n",
    "        h(k) = 1/2^k;\n",
    "    end\n",
    "    display(err)\n",
    "    loglog(h,err,h,h.^2);\n",
    "    legend('error','h^2');\n",
    "    axis tight;\n",
    "    \n",
    "Change mesh size and show the convergence rate is second order, i.e. $h^2$.    "
   ]
  }
 ],
 "metadata": {
  "kernelspec": {
   "display_name": "Matlab",
   "language": "matlab",
   "name": "matlab"
  },
  "language_info": {
   "codemirror_mode": "octave",
   "file_extension": ".m",
   "help_links": [
    {
     "text": "MetaKernel Magics",
     "url": "https://github.com/calysto/metakernel/blob/master/metakernel/magics/README.md"
    }
   ],
   "mimetype": "text/x-matlab",
   "name": "matlab",
   "version": "0.14.3"
  },
  "toc": {
   "colors": {
    "hover_highlight": "#DAA520",
    "navigate_num": "#000000",
    "navigate_text": "#333333",
    "running_highlight": "#FF0000",
    "selected_highlight": "#FFD700",
    "sidebar_border": "#EEEEEE",
    "wrapper_background": "#FFFFFF"
   },
   "moveMenuLeft": true,
   "nav_menu": {
    "height": "120px",
    "width": "252px"
   },
   "navigate_menu": true,
   "number_sections": true,
   "sideBar": true,
   "threshold": 4,
   "toc_cell": false,
   "toc_section_display": "block",
   "toc_window_display": false,
   "widenNotebook": false
  }
 },
 "nbformat": 4,
 "nbformat_minor": 2
}
