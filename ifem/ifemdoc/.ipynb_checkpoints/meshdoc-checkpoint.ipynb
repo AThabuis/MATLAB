{
 "cells": [
  {
   "cell_type": "markdown",
   "metadata": {},
   "source": [
    "# Basic Data Structure\n",
    "\n",
    "We explain the basic mesh data structure: `(node,elem)` representing a mesh, `bdFlag` for boundary conditions, and the auxiliary data structures for exploring the mesh. We also discuss several ordering for simplical complexes in 2-D and 3-D which is helpful for orientation dependended data structure.\n",
    "\n",
    "- [Basic mesh data structure](meshbasicdoc.html)\n",
    "- [Boundary condition](bddoc.html)\n",
    "- [Auxiliary mesh data structures](auxstructuredoc.html)\n",
    "- [Simplicial complex in two dimensions](scdoc.html)\n",
    "- [Simplicial complex in three dimensions](sc3doc.html)"
   ]
  }
 ],
 "metadata": {
  "kernelspec": {
   "display_name": "Matlab",
   "language": "matlab",
   "name": "matlab"
  },
  "language_info": {
   "codemirror_mode": "octave",
   "file_extension": ".m",
   "help_links": [
    {
     "text": "MetaKernel Magics",
     "url": "https://github.com/calysto/metakernel/blob/master/metakernel/magics/README.md"
    }
   ],
   "mimetype": "text/x-matlab",
   "name": "matlab",
   "version": "0.14.3"
  },
  "toc": {
   "colors": {
    "hover_highlight": "#DAA520",
    "navigate_num": "#000000",
    "navigate_text": "#333333",
    "running_highlight": "#FF0000",
    "selected_highlight": "#FFD700",
    "sidebar_border": "#EEEEEE",
    "wrapper_background": "#FFFFFF"
   },
   "moveMenuLeft": true,
   "nav_menu": {
    "height": "30px",
    "width": "252px"
   },
   "navigate_menu": true,
   "number_sections": true,
   "sideBar": true,
   "threshold": 4,
   "toc_cell": false,
   "toc_section_display": "block",
   "toc_window_display": false,
   "widenNotebook": false
  }
 },
 "nbformat": 4,
 "nbformat_minor": 2
}
