{
 "cells": [
  {
   "cell_type": "markdown",
   "metadata": {},
   "source": [
    "# Simplicial Complex in Three Dimensions"
   ]
  },
  {
   "cell_type": "markdown",
   "metadata": {},
   "source": [
    "We dsecribe the data structure of the simplicial complex associated to a three dimensional trianglulation give by `node,elem` . The `node` records\n",
    "the coordinates of vertices and `elem` is the pointer from local to\n",
    "global incices of vertices. See [Basic mesh data structure](meshbasicdoc.html).\n",
    "\n",
    "A brief summary.\n",
    "- `edge`: asecond ordering, i.e. `edge(:,1)<edge(:,2)`\n",
    "\n",
    "- `face`: asecond ordering, i.e. `face(:,1)<face(:,2)<face(:,3)`\n",
    "\n",
    "- `elem`: either the positive ordering or the ascend ordering. The default one is the positive ordering and the asecond ordering is mainly used for edge and face elements. \n",
    "\n",
    "- Use `[elem,bdFlag] = sortelem3(elem,bdFlag)` to change the ordering to the ascend ordering. Note that `bdFlag` should be switched together. \n",
    "\n",
    "> The multigrid solvers use the original ordering of `elem` obtained from either uniform refinement or bisection methods. So let `elemold=elem` before sort.\n",
    "\n",
    "- Examples on the usage: `Poisson3RT0; Maxwell; Maxwell2;`"
   ]
  },
  {
   "cell_type": "markdown",
   "metadata": {},
   "source": [
    "## Outline"
   ]
  },
  {
   "cell_type": "code",
   "execution_count": 3,
   "metadata": {},
   "outputs": [
    {
     "data": {
      "image/png": "[encoded data removed]",
      "text/plain": [
       "<IPython.core.display.Image object>"
      ]
     },
     "metadata": {},
     "output_type": "display_data"
    }
   ],
   "source": [
    "elem = [1 4 5 8; 1 4 5 7];\n",
    "node = [1,0,0; 1,1,1; 1,-1,-1; 0,1,0; -2,-1,0; 1,1,-1; 0,1,1; 0,-1,-1];\n",
    "showmesh3(node,elem,[],'FaceAlpha',0.25);\n",
    "findelem3(node,elem);\n",
    "findnode3(node,elem(:));"
   ]
  },
  {
   "cell_type": "markdown",
   "metadata": {},
   "source": [
    "The basic data structure of a mesh consists of `node` and `elem`. The corresponding simplicial complex consists of vertices, edges, faces, and tetrahedron. We shall discuss three issues \n",
    "\n",
    "- *Indexing* of simplexes\n",
    "- *Ordering* of vertices\n",
    "- *Orientation* of simplexes\n",
    "\n",
    "The indexing and ordering are related and the ordering and orientation\n",
    "are mixed together. However the indexing has nothing to do with the\n",
    "orientation. The indexing and ordering are the combinarotry structure,\n",
    "i.e. only `elem` is needed, while the orientation also depends on `node`,\n",
    "the geometry emembdding of vertices.\n",
    "\n",
    "For indexing, ordering and orientation, there are always local and global versions. The relation between the local and global version is the most complicated issue."
   ]
  },
  {
   "cell_type": "markdown",
   "metadata": {},
   "source": [
    "## Indexing of Simplexes\n",
    "\n",
    "The indexing refers to the numbering of simplexes, e.g., which face is\n",
    "numbered as the first one. There are two types of the indexing: local and\n",
    "global. Each simplex in the simplicial complex has a unique index which\n",
    "is called the global index. In one tetrahedra, the four vertices and four\n",
    "faces have their local index from 1:4. \n",
    "\n",
    "In the assembling procedure of finite element methods, an element-wise\n",
    "matrix using the local indexing is first computed and then assembled to get a\n",
    "big matrix using the global indexing. Thus the pointer from the local\n",
    "indexing to the global indexing is indispensible. For bases independent of\n",
    "the ordering and orientation, e.g., `P1` and `P2` elements, this pointer\n",
    "is sufficient, otherwise, the inconsistency of the local ordering/orientation\n",
    "and the global ordering/orientation should be taken into account.\n",
    "\n",
    "### Local indexing\n",
    "\n",
    "The tetrahedron consists of four vertices indexed as [1 2 3 4]. Each\n",
    "tetrahedron contains four faces and six edges. They can be indexed as\n",
    "\n",
    "    locFace = [2 3 4; 1 3 4; 1 2 4; 1 2 3];\n",
    "    locEdge = [1 2; 1 3; 1 4; 2 3; 2 4; 3 4];\n",
    "\n",
    "In `locFace`, the i-th face is opposite to the i-th vertices and thus\n",
    "this is called _opposite indexing_. In `locEdge`, it is the\n",
    "_lexicographic indexing_ which is induced from the lexicographic ordering\n",
    "of the six edges. The ordering of vertices of each face or edge will not\n",
    "change the indexing. For example, the following `locFacec` and `locEdged`\n",
    "has the same indexing as `locFace` and `locEdge` but a different ordering\n",
    "of vertices.\n",
    "\n",
    "    locFacec = [2 3 4; 1 4 3; 1 2 4; 1 3 2];\n",
    "    locEdge = [2 1; 3 1; 4 1; 3 2; 4 2; 4 3];\n",
    "\n",
    "Indeed any permuation of each simplex will represent the same simplex and\n",
    "will not change the indexing. The ordering of vertices will affect the\n",
    "orientation and will be discussed later.\n",
    "\n",
    "For a face consists of three vertices [1 2 3], there are two indexing\n",
    "schemes of its three edges.\n",
    "\n",
    "- Oppoiste indexing        `[2 3; 3 1; 1 2]`\n",
    "- Lexicographic indexing   `[1 2; 1 3; 2 3]`\n",
    "\n",
    "Each indexing scheme has its advantange and disadavantange and which one\n",
    "to chose depends on the consideration of ordering and orientation."
   ]
  },
  {
   "cell_type": "markdown",
   "metadata": {},
   "source": [
    "### Global indexing and vertex pointers\n",
    "\n",
    "Each simplex in the simplicial complex has a unqiuely index. It is\n",
    "represented by vertices pointer from the local index to the globa index\n",
    "of vertices.\n",
    "\n",
    "The matrix `elem` is the pointer from local to global indices of vertices\n",
    "of tetrahedron, e.g. `elem(t,1)=25` means the first vertex of the\n",
    "tetrahedron t is the 25-th vertex.\n",
    "\n",
    "Similarly the `NE x 2` matrix `edge` records all edges and the `NF x 3` by 3\n",
    "matrix `face` records all faces of the triangulation. These are vertices\n",
    "pointers. We shall discuss the elementwise pointer from the local indices to\n",
    "the global indices for edges and faces.\n"
   ]
  },
  {
   "cell_type": "markdown",
   "metadata": {},
   "source": [
    "### Generate index pointers for edges and faces\n",
    "\n",
    "One can easily collect edges and faces elementwise. The issue is the\n",
    "duplication. For example, each interior face will be counted twice. The\n",
    "`unique` function is applied such that each edge or face has a unique\n",
    "global index.\n",
    "\n",
    "**Edge and Face**"
   ]
  },
  {
   "cell_type": "code",
   "execution_count": 4,
   "metadata": {},
   "outputs": [
    {
     "name": "stdout",
     "output_type": "stream",
     "text": [
      "\n",
      "edge =\n",
      "\n",
      "           1           4\n",
      "           1           5\n",
      "           1           7\n",
      "           1           8\n",
      "           4           5\n",
      "           4           7\n",
      "           4           8\n",
      "           5           7\n",
      "           5           8\n",
      "\n",
      "\n",
      "face =\n",
      "\n",
      "           1           4           5\n",
      "           1           4           7\n",
      "           1           4           8\n",
      "           1           5           7\n",
      "           1           5           8\n",
      "           4           5           7\n",
      "           4           5           8\n",
      "\n"
     ]
    }
   ],
   "source": [
    "totalEdge = uint32([elem(:,[1 2]); elem(:,[1 3]); elem(:,[1 4]); ...\n",
    "                    elem(:,[2 3]); elem(:,[2 4]); elem(:,[3 4])]);\n",
    "sortedTotalEdge = sort(totalEdge,2);\n",
    "[edge, ~, je] = unique(sortedTotalEdge,'rows');\n",
    "display(edge);\n",
    "\n",
    "totalFace = uint32([elem(:,[2 3 4]); elem(:,[1 4 3]); ...\n",
    "                    elem(:,[1 2 4]); elem(:,[1 3 2])]);\n",
    "sortedTotalFace = sort(totalFace,2);                \n",
    "[face, i2, jf] = unique(sortedTotalFace,'rows');\n",
    "display(face);"
   ]
  },
  {
   "cell_type": "markdown",
   "metadata": {},
   "source": [
    "In iFEM, `N,NE,NF,NT` represents the number of vertices, edges, faces and\n",
    "tetrahedrons, resprectively.\n",
    "\n",
    "    N = size(node,1); NT = size(elem,1); NF = size(face,1); NE = size(edge,1);\n",
    "\n",
    "In the assembling procedure, the matrix is always computed elementwise\n",
    "and then assemble to a big one. A pointer from the local index of a\n",
    "simplex to its global index is thus indispensible.\n",
    "\n",
    "**Elementwise pointers**\n",
    "\n",
    "- `elem2node = elem`\n",
    "- `elem2face(1:NT, 1:4)`\n",
    "- `elem2edge(1:NT, 1:6)`\n",
    "\n",
    "Such information is exactly stored in the output of `unique` function.\n",
    "For example, elem2face(t,1) = 17 means the first face of t (spanned by [2\n",
    "3 4]) is the 17-th element in the `face` matrix. "
   ]
  },
  {
   "cell_type": "code",
   "execution_count": 6,
   "metadata": {},
   "outputs": [
    {
     "name": "stdout",
     "output_type": "stream",
     "text": [
      "\n",
      "elem2edge =\n",
      "\n",
      "           1           2           4           5           7           9\n",
      "           1           2           3           5           6           8\n",
      "\n",
      "\n",
      "elem2face =\n",
      "\n",
      "           7           5           3           1\n",
      "           6           4           2           1\n",
      "\n"
     ]
    }
   ],
   "source": [
    "N = size(node,1); NT = size(elem,1); NF = size(face,1); NE = size(edge,1);\n",
    "elem2edge = uint32(reshape(je,NT,6));\n",
    "elem2face = uint32(reshape(jf,NT,4));\n",
    "display(elem2edge);\n",
    "display(elem2face);"
   ]
  },
  {
   "cell_type": "markdown",
   "metadata": {},
   "source": [
    "**Face to edge Pointer**\n",
    "\n",
    "|face2edge(1:NF,1:3)| records the global indices of three edges of a\n",
    "face. This pointer depends on the ordering of vertices of faces and the\n",
    "indexing of local edges in a face. We list the following two important\n",
    "cases. Other combinations is possible but not attractive.\n",
    "\n",
    "- Ascend ordering.\n",
    "\n",
    "All local faces and local edges are ascend ordered.\n",
    "    \n",
    "    locFace = [2 3 4; 1 3 4; 1 2 4; 1 2 3];\n",
    "    locEdge = [1 2; 1 3; 1 4; 2 3; 2 4; 3 4];\n",
    "    edgeofFace = [1 2; 1 3; 2 3];\n",
    "    locface2edge = [4 5 6; 2 3 6; 1 3 5; 1 2 4];\n",
    "\n",
    "- Consistent ordering\n",
    "\n",
    "The local face is ordered such that the corresponding orientation is\n",
    "consistent with the induced orientation.\n",
    "    locFace = [2 3 4; 1 4 3; 1 2 4; 1 3 2];\n",
    "    locEdge = [1 2; 1 3; 1 4; 2 3; 2 4; 3 4];\n",
    "    edgeofFace = [2 3; 3 1; 1 2];   \n",
    "    locface2edge = [6 5 4; 6 2 3; 5 3 1; 4 1 2];\n",
    "\n",
    "The global one can be obtained from the composition of `elem2face` and\n",
    "`locface2edge`. For example, for the asecnd ordering scheme,"
   ]
  },
  {
   "cell_type": "code",
   "execution_count": 7,
   "metadata": {
    "collapsed": true
   },
   "outputs": [],
   "source": [
    "face2edge(elem2face(:,1),:) = elem2edge(:,[4 5 6]);\n",
    "face2edge(elem2face(:,2),:) = elem2edge(:,[2 3 6]);\n",
    "face2edge(elem2face(:,3),:) = elem2edge(:,[1 3 5]);\n",
    "face2edge(elem2face(:,4),:) = elem2edge(:,[1 2 4]);"
   ]
  },
  {
   "cell_type": "markdown",
   "metadata": {},
   "source": [
    "## Ordering of Vertices\n",
    "\n",
    "We discuss the ordering of vertices of simplexes. Again there are local\n",
    "ordering and global ordering. They may not be consistent and a sign array\n",
    "is used to record the inconsistency if any.\n",
    "\n",
    "The local ordering refers to the ordering of vertices in `locFace` or\n",
    "`locEdge`, i.e. the ordering of the local index of vertices. For elements\n",
    "associated to faces or edges, the local ordering could be used in the\n",
    "formulation of the local basis and thus the ordering does matter.\n",
    "\n",
    "The global ordering refers to the ordering of vertices in `face` or\n",
    "`edge`, i.e., the ordering of the global index of vertices. Note that\n",
    "that in either local or global ordering, permutation of vertices will\n",
    "represent the same simplex. To fix an ordering we need extra information.\n",
    "\n",
    "### elem\n",
    "The local ordering is always [1 2 3 4]. Any permutation of four\n",
    "vertices of a tetrahedon still represents the same tetrahedron. Such\n",
    "freedom provide a room to record more information like:\n",
    "\n",
    "* global ordering of vertices\n",
    "* an orientation of element\n",
    "* refinement rules (uniform refinement or bisection)\n",
    "\n",
    "For 2-D triangulations, three vertices of a triangle in 2-D is sorted\n",
    "counter-cloclwise and the first vertex is chosen as the newest vertex.\n",
    "Such ordering enables the efficient implementation of local refinement\n",
    "and coarsening in 2-D; see [Bisection in Two Dimensions](bisectdoc.html)\n",
    "and [Coarsening in Two Dimensions](coarsendoc.html).\n",
    "\n",
    "In 3-D, for the longest edge bisection, the newest vertex (with the highest generation) is stored as the last (4-th) vertex of a tetrahedron. For [3-D Red Refinement](uniformrefine3doc.html), the ordering determines the shape regularity of refined triangulation. Permuation of vertices in `elem` could deterioriate the\n",
    "angle condition after the refinement.\n",
    "\n",
    "We shall reserve the ordering of `elem` from the mesh refinement and\n",
    "coarsening since they are more subtle. We switch the ordering when\n",
    "generating data structure for finite element basis and assemble the\n",
    "matrix equation. Such sorting is hidden in the subroutines when a finite\n",
    "element basis requiring ordering is generated.\n",
    "\n",
    "Two types of ordering of `elem` is of particular importantance\n",
    "- Positive ordering\n",
    "- Ascend ordering\n",
    "\n",
    "In the positive ordering, the four vertices are ordered such that the\n",
    "signed volume, the mix product of vectors (v12,v13,v14), is positive.\n",
    "This is the default ordering used so far. `fixorder3` will switch the\n",
    "vertices for elements with negative volume. \n",
    "\n",
    "    v = simplexvolume(node,elem) % returns the singed volume\n",
    "    elem = fixorder(node,elem)   % switchs the vertices for elements with negative volume.\n",
    "\n",
    "In the ascend ordering, the vertices of `elem` is sorted such that \n",
    "\n",
    "    elem(t,1) < elem(t,2) < elem(t,3) < elem(t,4). \n",
    "    \n",
    "Such ordering will benefit the construction of local bases for high order basis or basis with orientation. This can be easily achieved by `elem = sort(elem,2)`.\n",
    "Howevery, one has to rotate the boundary flag accordingly using\n",
    "\n",
    "    [elem,bdFlag] = sortelem3(elem,bdFlag);\n"
   ]
  },
  {
   "cell_type": "markdown",
   "metadata": {},
   "source": [
    "## Orientation"
   ]
  }
 ],
 "metadata": {
  "kernelspec": {
   "display_name": "Matlab",
   "language": "matlab",
   "name": "matlab"
  },
  "language_info": {
   "codemirror_mode": "octave",
   "file_extension": ".m",
   "help_links": [
    {
     "text": "MetaKernel Magics",
     "url": "https://github.com/calysto/metakernel/blob/master/metakernel/magics/README.md"
    }
   ],
   "mimetype": "text/x-matlab",
   "name": "matlab",
   "version": "0.14.3"
  },
  "toc": {
   "colors": {
    "hover_highlight": "#DAA520",
    "navigate_num": "#000000",
    "navigate_text": "#333333",
    "running_highlight": "#FF0000",
    "selected_highlight": "#FFD700",
    "sidebar_border": "#EEEEEE",
    "wrapper_background": "#FFFFFF"
   },
   "moveMenuLeft": true,
   "nav_menu": {
    "height": "30px",
    "width": "252px"
   },
   "navigate_menu": true,
   "number_sections": true,
   "sideBar": false,
   "threshold": 4,
   "toc_cell": false,
   "toc_position": {
    "height": "282px",
    "left": "849px",
    "right": "20px",
    "top": "-16px",
    "width": "212px"
   },
   "toc_section_display": "block",
   "toc_window_display": true,
   "widenNotebook": false
  }
 },
 "nbformat": 4,
 "nbformat_minor": 2
}
