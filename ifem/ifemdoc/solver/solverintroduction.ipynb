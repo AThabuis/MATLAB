{
 "cells": [
  {
   "cell_type": "markdown",
   "metadata": {},
   "source": [
    "# Solvers for Linear Algebraic Equations"
   ]
  },
  {
   "cell_type": "markdown",
   "metadata": {},
   "source": [
    "We have implemented multigrid solvers for linear algebraic systems arising from various finite element methods. Here we briefly present the usage for a symmetric and positive definite matrix equation `Ax = b`.\n",
    "\n",
    "    x = A\\b;\n",
    "    x = amg(A,b);\n",
    "    x = mg(A,b,elem);\n",
    "    \n",
    "Backslash `\\` is the build-in direct solver of MATLAB. It is suitable for small size problems. `x = amg(A,b)` implements algebraic multigrid solver. To acheive multigrid efficiency, a hierarchical 'grids' is generated from the graph of `A`. When the mesh is avaiable, `x = mg(A,b,elem)` implements geometric multigrid solvers. Inside `mg`, an coarsening algorithm is applied to the mesh given by `elem`. \n",
    "\n",
    "More options is allowed in `mg` and `amg`. Try `help mg` and `help amg` for possible options including tolerance, V or W-cycles, number of smoothings steps, and print level etc.\n",
    "\n",
    "Here we include several examples for discrete Poisson matrices. Solvers for other finite element methods and other equations can be found\n",
    "- [List of Examples](solverlist.html)"
   ]
  },
  {
   "cell_type": "markdown",
   "metadata": {},
   "source": [
    "## Example: 2-D Linear Element "
   ]
  },
  {
   "cell_type": "code",
   "execution_count": 1,
   "metadata": {},
   "outputs": [
    {
     "name": "stdout",
     "output_type": "stream",
     "text": [
      "Direct solver\n",
      "Elapsed time is 1.293569 seconds.\n",
      "\n",
      " Multigrid V-cycle Preconditioner with Conjugate Gradient Method\n",
      "#dof:   263169,  #nnz:  1303561, smoothing: (1,1), iter: 10,   err = 1.35e-09,   time =  1.1 s\n",
      "Elapsed time is 1.186739 seconds.\n",
      "\n",
      " Algebraic Multigrid W-cycle Preconditioner with Conjugate Gradient Method\n",
      "  nnz/N: 4.96,   level:  6,   coarse grid 169,   nnz/Nc 9.38\n",
      "#dof:  263169,    iter: 14,   err = 5.5672e-09,   time = 4.65 s\n",
      " \n",
      "Elapsed time is 4.334722 seconds.\n",
      "Difference between direct and mg, amg solvers 1.4e-09, 7.8e-08 \n"
     ]
    },
    {
     "data": {
      "image/png": "[encoded data removed]",
      "text/plain": [
       "<IPython.core.display.Image object>"
      ]
     },
     "metadata": {},
     "output_type": "display_data"
    }
   ],
   "source": [
    "% setting\n",
    "mesh.shape = 'square';\n",
    "mesh.type = 'uniform';\n",
    "mesh.size = 2e5;\n",
    "pde = 'Poisson';\n",
    "fem = 'P1';\n",
    "% get the matrix\n",
    "[eqn,T] = getfemmatrix(mesh,pde,fem);\n",
    "% compare solvers\n",
    "tic; disp('Direct solver'); x1 = eqn.A\\eqn.b; toc;\n",
    "tic; x2 = mg(eqn.A,eqn.b,T.elem); toc;\n",
    "tic; x3 = amg(eqn.A,eqn.b); toc;\n",
    "format shorte\n",
    "fprintf('Difference between direct and mg, amg solvers %0.2g, %0.2g \\n',...\n",
    "         norm(x1-x2)/norm(eqn.b),norm(x1-x3)/norm(eqn.b));"
   ]
  },
  {
   "cell_type": "markdown",
   "metadata": {},
   "source": [
    "For problem size of $2.6 \\times 10^5$, `mg` ties with direct solver `\\`. But `amg` is aroud 3-4 times slover."
   ]
  },
  {
   "cell_type": "markdown",
   "metadata": {},
   "source": [
    "## Example: 2-D Adaptive Meshes"
   ]
  },
  {
   "cell_type": "code",
   "execution_count": 7,
   "metadata": {},
   "outputs": [
    {
     "name": "stdout",
     "output_type": "stream",
     "text": [
      "Direct solver\n",
      "Elapsed time is 3.347438 seconds.\n",
      "\n",
      " Multigrid V-cycle Preconditioner with Conjugate Gradient Method\n",
      "#dof:   738561,  #nnz:  3682043, smoothing: (1,1), iter: 10,   err = 6.29e-09,   time =  3.1 s\n",
      "Elapsed time is 2.843210 seconds.\n",
      "\n",
      " Algebraic Multigrid W-cycle Preconditioner with Conjugate Gradient Method\n",
      "  nnz/N: 4.99,   level:  6,   coarse grid 453,   nnz/Nc 9.72\n",
      "#dof:  738561,    iter: 15,   err = 2.9982e-09,   time = 14.9 s\n",
      " \n",
      "Elapsed time is 13.711571 seconds.\n",
      "Difference between direct and mg, amg solvers 1.2e-08, 6e-08 \n"
     ]
    },
    {
     "data": {
      "image/png": "[encoded data removed]",
      "text/plain": [
       "<IPython.core.display.Image object>"
      ]
     },
     "metadata": {},
     "output_type": "display_data"
    }
   ],
   "source": [
    "%% Lshape adaptive grids\n",
    "mesh.shape = 'Lshape';\n",
    "mesh.type = 'adaptive';\n",
    "mesh.size = 2e4;\n",
    "pde = 'Poisson';\n",
    "fem = 'P1';\n",
    "% get the matrix\n",
    "[eqn,T] = getfemmatrix(mesh,pde,fem);\n",
    "% compare solvers\n",
    "tic; disp('Direct solver'); x1 = eqn.A\\eqn.b; toc;\n",
    "tic; x2 = mg(eqn.A,eqn.b,T.elem); toc;\n",
    "tic; x3 = amg(eqn.A,eqn.b); toc;\n",
    "fprintf('Difference between direct and mg, amg solvers %0.2g, %0.2g \\n',...\n",
    "         norm(x1-x2)/norm(eqn.b),norm(x1-x3)/norm(eqn.b));"
   ]
  },
  {
   "cell_type": "markdown",
   "metadata": {},
   "source": [
    "The finest mesh is several uniform refinement of an adaptive mesh shown above. Now the multigrid outperforms the direct solver around the size of 7e5. amg is 4-5 times slower."
   ]
  },
  {
   "cell_type": "markdown",
   "metadata": {},
   "source": [
    "## Example: 3-D Linear Element"
   ]
  },
  {
   "cell_type": "code",
   "execution_count": 10,
   "metadata": {},
   "outputs": [
    {
     "name": "stdout",
     "output_type": "stream",
     "text": [
      "Direct solver\n",
      "Elapsed time is 0.443978 seconds.\n",
      "\n",
      " Multigrid V-cycle Preconditioner with Conjugate Gradient Method\n",
      "#dof:    35937,  #nnz:   202771, smoothing: (1,1), iter: 11,   err = 5.50e-09,   time = 0.18 s\n",
      "Elapsed time is 0.150138 seconds.\n",
      "\n",
      " Algebraic Multigrid W-cycle Preconditioner with Conjugate Gradient Method\n",
      "  nnz/N: 5.81,   level:  4,   coarse grid 305,   nnz/Nc 30.80\n",
      "#dof:   35937,    iter: 10,   err = 3.5316e-09,   time = 0.92 s\n",
      " \n",
      "Elapsed time is 0.645183 seconds.\n",
      "Difference between direct and mg, amg solvers 1e-09, 4.2e-09 \n"
     ]
    },
    {
     "data": {
      "image/png": "[encoded data removed]",
      "text/plain": [
       "<IPython.core.display.Image object>"
      ]
     },
     "metadata": {},
     "output_type": "display_data"
    }
   ],
   "source": [
    "% Cube uniform grids\n",
    "mesh.shape = 'cube';\n",
    "mesh.type = 'uniform';\n",
    "mesh.size = 2e4;\n",
    "pde = 'Poisson';\n",
    "fem = 'P1';\n",
    "% get the matrix\n",
    "[eqn,T] = getfemmatrix3(mesh,pde,fem);\n",
    "% compare solvers\n",
    "tic; disp('Direct solver'); x1 = eqn.A\\eqn.b; toc;\n",
    "tic; x2 = mg(eqn.A,eqn.b,T.elem); toc;\n",
    "tic; x3 = amg(eqn.A,eqn.b); toc;\n",
    "fprintf('Difference between direct and mg, amg solvers %0.2g, %0.2g \\n',...\n",
    "         norm(x1-x2)/norm(eqn.b),norm(x1-x3)/norm(eqn.b));"
   ]
  },
  {
   "cell_type": "markdown",
   "metadata": {},
   "source": [
    "For 3-D linear element, `mg` wins at an even smaller size $3.6\\times 10^4$. Again `amg` is 3-4 times slower than `mg`. "
   ]
  }
 ],
 "metadata": {
  "kernelspec": {
   "display_name": "Matlab",
   "language": "matlab",
   "name": "matlab"
  },
  "language_info": {
   "codemirror_mode": "octave",
   "file_extension": ".m",
   "help_links": [
    {
     "text": "MetaKernel Magics",
     "url": "https://github.com/calysto/metakernel/blob/master/metakernel/magics/README.md"
    }
   ],
   "mimetype": "text/x-matlab",
   "name": "matlab",
   "version": "0.14.3"
  },
  "toc": {
   "colors": {
    "hover_highlight": "#DAA520",
    "navigate_num": "#000000",
    "navigate_text": "#333333",
    "running_highlight": "#FF0000",
    "selected_highlight": "#FFD700",
    "sidebar_border": "#EEEEEE",
    "wrapper_background": "#FFFFFF"
   },
   "moveMenuLeft": true,
   "nav_menu": {
    "height": "30px",
    "width": "252px"
   },
   "navigate_menu": true,
   "number_sections": true,
   "sideBar": true,
   "threshold": 4,
   "toc_cell": false,
   "toc_section_display": "block",
   "toc_window_display": true,
   "widenNotebook": false
  }
 },
 "nbformat": 4,
 "nbformat_minor": 2
}
