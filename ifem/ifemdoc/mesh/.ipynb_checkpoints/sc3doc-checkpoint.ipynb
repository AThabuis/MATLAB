{
 "cells": [
  {
   "cell_type": "markdown",
   "metadata": {},
   "source": [
    "# Simplicial Complex in Three Dimensions"
   ]
  },
  {
   "cell_type": "markdown",
   "metadata": {},
   "source": [
    "We dsecribe the data structure of the simplicial complex associated to a three dimensional trianglulation give by `node,elem` . The `node` records\n",
    "the coordinates of vertices and `elem` is the pointer from local to\n",
    "global incices of vertices. See [Basic mesh data structure](meshbasicdoc.html).\n",
    "\n",
    "A brief summary.\n",
    "- `edge`: asecond ordering, i.e. `edge(:,1)<edge(:,2)`\n",
    "\n",
    "- `face`: asecond ordering, i.e. `face(:,1)<face(:,2)<face(:,3)`\n",
    "\n",
    "- `elem`: either the positive ordering or the ascend ordering. The default one is the positive ordering and the asecond ordering is mainly used for edge and face elements. \n",
    "\n",
    "- Use `[elem,bdFlag] = sortelem3(elem,bdFlag)` to change the ordering to the ascend ordering. Note that `bdFlag` should be switched together. \n",
    "\n",
    "> The multigrid solvers use the original ordering of `elem` obtained from either uniform refinement or bisection methods. So let `elemold=elem` before sort.\n",
    "\n",
    "- Examples on the usage: `Poisson3RT0; Maxwell; Maxwell2;`"
   ]
  },
  {
   "cell_type": "markdown",
   "metadata": {},
   "source": [
    "## Outline"
   ]
  },
  {
   "cell_type": "markdown",
   "metadata": {},
   "source": [
    "The basic data structure of a mesh consists of `node` and `elem`. The corresponding simplicial complex consists of vertices, edges, faces, and tetrahedron. We shall discuss three issues \n",
    "\n",
    "- *Indexing* of simplexes\n",
    "- *Ordering* of vertices\n",
    "- *Orientation* of simplexes\n",
    "\n",
    "The indexing and ordering are related and the ordering and orientation\n",
    "are mixed together. However the indexing has nothing to do with the\n",
    "orientation. The indexing and ordering are the combinarotry structure,\n",
    "i.e. only `elem` is needed, while the orientation also depends on `node`,\n",
    "the geometry emembdding of vertices.\n",
    "\n",
    "For indexing, ordering and orientation, there are always local and global versions. The relation between the local and global version is the most complicated issue."
   ]
  },
  {
   "cell_type": "markdown",
   "metadata": {},
   "source": [
    "## Indexing of Simplexes\n",
    "\n",
    "The indexing refers to the numbering of simplexes, e.g., which face is\n",
    "numbered as the first one. There are two types of the indexing: local and\n",
    "global. Each simplex in the simplicial complex has a unique index which\n",
    "is called the global index. In one tetrahedra, the four vertices and four\n",
    "faces have their local index from 1:4. \n",
    "\n",
    "In the assembling procedure of finite element methods, an element-wise\n",
    "matrix using the local indexing is first computed and then assembled to get a\n",
    "big matrix using the global indexing. Thus the pointer from the local\n",
    "indexing to the global indexing is indispensible. For bases independent of\n",
    "the ordering and orientation, e.g., `P1` and `P2` elements, this pointer\n",
    "is sufficient, otherwise, the inconsistency of the local ordering/orientation\n",
    "and the global ordering/orientation should be taken into account.\n",
    "\n",
    "### Local indexing\n",
    "\n",
    "The tetrahedron consists of four vertices indexed as [1 2 3 4]. Each\n",
    "tetrahedron contains four faces and six edges. They can be indexed as\n",
    "\n",
    "    locFace = [2 3 4; 1 3 4; 1 2 4; 1 2 3];\n",
    "    locEdge = [1 2; 1 3; 1 4; 2 3; 2 4; 3 4];\n",
    "\n",
    "In `locFace`, the i-th face is opposite to the i-th vertices and thus\n",
    "this is called _opposite indexing_. In `locEdge`, it is the\n",
    "_lexicographic indexing_ which is induced from the lexicographic ordering\n",
    "of the six edges. The ordering of vertices of each face or edge will not\n",
    "change the indexing. For example, the following `locFacec` and `locEdged`\n",
    "has the same indexing as `locFace` and `locEdge` but a different ordering\n",
    "of vertices.\n",
    "\n",
    "    locFacec = [2 3 4; 1 4 3; 1 2 4; 1 3 2];\n",
    "    locEdge = [2 1; 3 1; 4 1; 3 2; 4 2; 4 3];\n",
    "\n",
    "Indeed any permuation of each simplex will represent the same simplex and\n",
    "will not change the indexing. The ordering of vertices will affect the\n",
    "orientation and will be discussed later.\n",
    "\n",
    "For a face consists of three vertices [1 2 3], there are two indexing\n",
    "schemes of its three edges.\n",
    "\n",
    "- Oppoiste indexing:        `[2 3; 3 1; 1 2]`\n",
    "- Lexicographic indexing:   `[1 2; 1 3; 2 3]`\n",
    "\n",
    "Each indexing scheme has its advantange and disadavantange and which one\n",
    "to chose depends on the consideration of ordering and orientation."
   ]
  },
  {
   "cell_type": "markdown",
   "metadata": {},
   "source": [
    "### Global indexing and vertex pointers\n",
    "\n",
    "Each simplex in the simplicial complex has a unqiue index. It is\n",
    "represented by vertices pointer from the local index to the globa index\n",
    "of vertices.\n",
    "\n",
    "The matrix `elem` is the pointer from local to global indices of vertices\n",
    "of tetrahedron, e.g. `elem(t,1)=25` means the first vertex of the\n",
    "tetrahedron t is the 25-th vertex.\n",
    "\n",
    "Similarly the `NE x 2` matrix `edge` records all edges and the `NF x 3` by 3\n",
    "matrix `face` records all faces of the triangulation. These are vertices\n",
    "pointers. We shall discuss the elementwise pointer from the local indices to\n",
    "the global indices for edges and faces.\n"
   ]
  },
  {
   "cell_type": "code",
   "execution_count": 16,
   "metadata": {},
   "outputs": [
    {
     "name": "stdout",
     "output_type": "stream",
     "text": [
      "\n",
      "elem =\n",
      "\n",
      "     1     2     3     7\n",
      "     1     4     3     7\n",
      "     1     5     6     7\n",
      "     1     5     8     7\n",
      "     1     2     6     7\n",
      "     1     4     8     7\n",
      "\n"
     ]
    },
    {
     "data": {
      "image/png": "[encoded data removed]",
      "text/plain": [
       "<IPython.core.display.Image object>"
      ]
     },
     "metadata": {},
     "output_type": "display_data"
    }
   ],
   "source": [
    "[node,elem] = cubemesh([-1,1,-1,1,-1,1],2);\n",
    "showmesh3(node,elem,[],'FaceAlpha',0.25);\n",
    "findelem3(node,elem);\n",
    "findnode3(node,elem(:));\n",
    "display(elem);"
   ]
  },
  {
   "cell_type": "markdown",
   "metadata": {},
   "source": [
    "### Generate index pointers for edges and faces\n",
    "\n",
    "One can easily collect edges and faces elementwise. The issue is the\n",
    "duplication. For example, each interior face will be counted twice. The\n",
    "`unique` function is applied such that each edge or face has a unique\n",
    "global index.\n",
    "\n",
    "**Edge and Face**"
   ]
  },
  {
   "cell_type": "code",
   "execution_count": 17,
   "metadata": {},
   "outputs": [
    {
     "name": "stdout",
     "output_type": "stream",
     "text": [
      "\n",
      "edge =\n",
      "\n",
      "  19�2 uint32 matrix\n",
      "\n",
      "   1   2\n",
      "   1   3\n",
      "   1   4\n",
      "   1   5\n",
      "   1   6\n",
      "   1   7\n",
      "   1   8\n",
      "   2   3\n",
      "   2   6\n",
      "   2   7\n",
      "   3   4\n",
      "   3   7\n",
      "   4   7\n",
      "   4   8\n",
      "   5   6\n",
      "   5   7\n",
      "   5   8\n",
      "   6   7\n",
      "   7   8\n",
      "\n",
      "\n",
      "face =\n",
      "\n",
      "  18�3 uint32 matrix\n",
      "\n",
      "   1   2   3\n",
      "   1   2   6\n",
      "   1   2   7\n",
      "   1   3   4\n",
      "   1   3   7\n",
      "   1   4   7\n",
      "   1   4   8\n",
      "   1   5   6\n",
      "   1   5   7\n",
      "   1   5   8\n",
      "   1   6   7\n",
      "   1   7   8\n",
      "   2   3   7\n",
      "   2   6   7\n",
      "   3   4   7\n",
      "   4   7   8\n",
      "   5   6   7\n",
      "   5   7   8\n",
      "\n"
     ]
    }
   ],
   "source": [
    "totalEdge = uint32([elem(:,[1 2]); elem(:,[1 3]); elem(:,[1 4]); ...\n",
    "                    elem(:,[2 3]); elem(:,[2 4]); elem(:,[3 4])]);\n",
    "sortedTotalEdge = sort(totalEdge,2);\n",
    "[edge, ~, je] = unique(sortedTotalEdge,'rows');\n",
    "display(edge);\n",
    "\n",
    "totalFace = uint32([elem(:,[2 3 4]); elem(:,[1 4 3]); ...\n",
    "                    elem(:,[1 2 4]); elem(:,[1 3 2])]);\n",
    "sortedTotalFace = sort(totalFace,2);                \n",
    "[face, i2, jf] = unique(sortedTotalFace,'rows');\n",
    "display(face);"
   ]
  },
  {
   "cell_type": "markdown",
   "metadata": {},
   "source": [
    "In iFEM, `N,NE,NF,NT` represents the number of vertices, edges, faces and tetrahedrons, resprectively.\n",
    "\n",
    "    N = size(node,1); NT = size(elem,1); NF = size(face,1); NE = size(edge,1);\n",
    "\n",
    "In the assembling procedure, the matrix is always computed elementwise and then assemble to a big one. A pointer from the local index of a simplex to its global index is thus indispensible.\n",
    "\n",
    "**Elementwise pointers**\n",
    "\n",
    "- `elem2node = elem`\n",
    "- `elem2face(1:NT, 1:4)`\n",
    "- `elem2edge(1:NT, 1:6)`\n",
    "\n",
    "Such information is exactly stored in the output of `unique` function. For example, `elem2face(t,1) = 17` means the first face of t (spanned by `[2 3 4]`) is the 17-th element in the `face` matrix. "
   ]
  },
  {
   "cell_type": "code",
   "execution_count": 18,
   "metadata": {},
   "outputs": [
    {
     "name": "stdout",
     "output_type": "stream",
     "text": [
      "\n",
      "elem2edge =\n",
      "\n",
      "  6�6 uint32 matrix\n",
      "\n",
      "    1    2    6    8   10   12\n",
      "    3    2    6   11   13   12\n",
      "    4    5    6   15   16   18\n",
      "    4    7    6   17   16   19\n",
      "    1    5    6    9   10   18\n",
      "    3    7    6   14   13   19\n",
      "\n",
      "\n",
      "elem2face =\n",
      "\n",
      "  6�4 uint32 matrix\n",
      "\n",
      "   13    5    3    1\n",
      "   15    5    6    4\n",
      "   17   11    9    8\n",
      "   18   12    9   10\n",
      "   14   11    3    2\n",
      "   16   12    6    7\n",
      "\n"
     ]
    }
   ],
   "source": [
    "N = size(node,1); NT = size(elem,1); NF = size(face,1); NE = size(edge,1);\n",
    "elem2edge = uint32(reshape(je,NT,6));\n",
    "elem2face = uint32(reshape(jf,NT,4));\n",
    "display(elem2edge);\n",
    "display(elem2face);"
   ]
  },
  {
   "cell_type": "markdown",
   "metadata": {},
   "source": [
    "**Face to edge Pointer**\n",
    "\n",
    "`face2edge(1:NF,1:3)` records the global indices of three edges of a\n",
    "face. This pointer depends on the ordering of vertices of faces and the\n",
    "indexing of local edges in a face. We list the following two important\n",
    "cases. Other combinations is possible but not attractive.\n",
    "\n",
    "- Ascend ordering.\n",
    "\n",
    "All local faces and local edges are ascend ordered.\n",
    "    \n",
    "    locFace = [2 3 4; 1 3 4; 1 2 4; 1 2 3];\n",
    "    locEdge = [1 2; 1 3; 1 4; 2 3; 2 4; 3 4];\n",
    "    edgeOfFace = [1 2; 1 3; 2 3];\n",
    "    locFace2edge = [4 5 6; 2 3 6; 1 3 5; 1 2 4];\n",
    "\n",
    "- Consistent ordering\n",
    "\n",
    "The local face is ordered such that the corresponding orientation is\n",
    "consistent with the induced orientation.\n",
    "\n",
    "    locFace = [2 3 4; 1 4 3; 1 2 4; 1 3 2];\n",
    "    locEdge = [1 2; 1 3; 1 4; 2 3; 2 4; 3 4];\n",
    "    edgeOfFace = [2 3; 3 1; 1 2];   \n",
    "    locFace2edge = [6 5 4; 6 2 3; 5 3 1; 4 1 2];\n",
    "\n",
    "The global one can be obtained from the composition of `elem2face` and\n",
    "`locFace2edge`. For example, for the asecnd ordering scheme,\n",
    "\n",
    "    face2edge(elem2face(:,1),:) = elem2edge(:,[4 5 6]);\n",
    "    face2edge(elem2face(:,2),:) = elem2edge(:,[2 3 6]);\n",
    "    face2edge(elem2face(:,3),:) = elem2edge(:,[1 3 5]);\n",
    "    face2edge(elem2face(:,4),:) = elem2edge(:,[1 2 4]);"
   ]
  },
  {
   "cell_type": "markdown",
   "metadata": {},
   "source": [
    "## Ordering of Vertices\n",
    "\n",
    "We discuss the ordering of vertices of simplexes. Again there are local\n",
    "ordering and global ordering. They may not be consistent and a sign array\n",
    "is used to record the inconsistency if any.\n",
    "\n",
    "The local ordering refers to the ordering of vertices in `locFace` or\n",
    "`locEdge`, i.e. the ordering of the local index of vertices. For elements\n",
    "associated to faces or edges, the local ordering could be used in the\n",
    "formulation of the local basis and thus the ordering does matter.\n",
    "\n",
    "The global ordering refers to the ordering of vertices in `face` or\n",
    "`edge`, i.e., the ordering of the global index of vertices. Note that\n",
    "that in either local or global ordering, permutation of vertices will\n",
    "represent the same simplex. To fix an ordering we need extra information."
   ]
  },
  {
   "cell_type": "markdown",
   "metadata": {},
   "source": [
    "### elem\n",
    "The local ordering is always [1 2 3 4]. Any permutation of four vertices of a tetrahedon still represents the same tetrahedron. Such freedom provide a room to record more information like:\n",
    "\n",
    "* global ordering of vertices\n",
    "* an orientation of element\n",
    "* refinement rules (uniform refinement or bisection)\n",
    "\n",
    "For 2-D triangulations, three vertices of a triangle in 2-D is sorted counter-cloclwise and the first vertex is chosen as the newest vertex. Such ordering enables the efficient implementation of local refinement\n",
    "and coarsening in 2-D; see [Bisection in Two Dimensions](../afem/bisectdoc.html)\n",
    "and [Coarsening in Two Dimensions](../afem/coarsendoc.html).\n",
    "\n",
    "In 3-D, for the longest edge bisection, the newest vertex (with the highest generation) is stored as the last (4-th) vertex of a tetrahedron. For [3-D Red Refinement](uniformrefine3doc.html), the ordering determines the shape regularity of refined triangulation. Permuation of vertices in `elem` could deterioriate the angle condition after the refinement.\n",
    "\n",
    "We shall reserve the ordering of `elem` from the mesh refinement and\n",
    "coarsening since they are more subtle. We switch the ordering when\n",
    "generating data structure for finite element basis and assemble the\n",
    "matrix equation. Such sorting is hidden in the subroutines when a finite\n",
    "element basis requiring ordering is generated.\n",
    "\n",
    "Two types of ordering of `elem` is of particular importantance\n",
    "- Ascend ordering\n",
    "- Positive ordering\n",
    "\n",
    "In the ascend ordering, the vertices of `elem` is sorted such that \n",
    "\n",
    "    elem(t,1) < elem(t,2) < elem(t,3) < elem(t,4). \n",
    "    \n",
    "Such ordering will benefit the construction of local bases for high order basis or basis with orientation. This can be easily achieved by `elem = sort(elem,2)`. One has to rotate the boundary flag accordingly."
   ]
  },
  {
   "cell_type": "code",
   "execution_count": 22,
   "metadata": {},
   "outputs": [
    {
     "name": "stdout",
     "output_type": "stream",
     "text": [
      "\n",
      "elem =\n",
      "\n",
      "     1     2     3     7\n",
      "     1     3     4     7\n",
      "     1     5     6     7\n",
      "     1     5     7     8\n",
      "     1     2     6     7\n",
      "     1     4     7     8\n",
      "\n"
     ]
    }
   ],
   "source": [
    "bdFlag = setboundary3(node,elem,'Dirichlet');\n",
    "[elem,bdFlag] = sortelem3(elem,bdFlag);    \n",
    "display(elem);"
   ]
  },
  {
   "cell_type": "markdown",
   "metadata": {},
   "source": [
    "In the positive ordering, the four vertices are ordered such that the\n",
    "signed volume, the mix product of vectors (v12,v13,v14), is positive.\n",
    "This is the default ordering used so far. `fixorder3` will switch the\n",
    "vertices for elements with negative volume. "
   ]
  },
  {
   "cell_type": "code",
   "execution_count": 25,
   "metadata": {},
   "outputs": [
    {
     "name": "stdout",
     "output_type": "stream",
     "text": [
      "\n",
      "elem =\n",
      "\n",
      "     1     2     3     7\n",
      "     1     3     4     7\n",
      "     1     5     6     7\n",
      "     1     5     7     8\n",
      "     1     6     2     7\n",
      "     1     7     4     8\n",
      "\n"
     ]
    }
   ],
   "source": [
    "elem = fixorder3(node,elem)   % switchs the vertices for elements with negative volume."
   ]
  },
  {
   "cell_type": "markdown",
   "metadata": {},
   "source": [
    "### edge\n",
    "\n",
    "For 3-D triangulations, we chose the ascend ordering both locally and globally. Namely\n",
    "\n",
    "    locEdge(:,1) < locEdge(:,2); \n",
    "       edge(:,1) < edge(:,2);\n",
    "\n",
    "Recall that for `locEdge = [1 2; 1 3; 1 4; 2 3; 2 4; 3 4]`, it is ascend\n",
    "ordered. The `edge` produced by `unique` function is also ascend\n",
    "ordered. \n",
    "\n",
    "There might be inconsistency between the local and global ordering.\n",
    "That is `edge(elem2edge(t,1),1)` may not be smaller than `edge(elem2edge(t,1),2)`. It will be more clear from the discussion of the corresponding orientation.\n",
    "\n",
    "For 2-D triangulations, the global ordering is still ascend ordered. But locally it may not. For example, for the consisitent ordering `locEdge = [2 3; 3 1; 1 2]`, then `locEdge(2,1) > locEdge(2,2)`."
   ]
  },
  {
   "cell_type": "markdown",
   "metadata": {},
   "source": [
    "### face\n",
    "\n",
    "For 3-D triangulations, the `face` produced by `unique` function is already sorted in the second dimension such that the global ordering is ascended i.e. `face(:,1) < face(:,2) < face(:,3)`. The local ordering in `locFace`, however, is not always ascend ordered.\n",
    "\n",
    "    locFace = [2 3 4; 1 3 4; 1 2 4; 1 2 3]; % Ascend ordering\n",
    "    locFace = [2 3 4; 1 4 3; 1 2 4; 1 3 2]; % Consistent ordering\n",
    "\n",
    "Again the local and the global ordering maynot be consisitent. That is\n",
    "\n",
    "    face(elem2face(t,:),1) < face(elem2face(t,:),2) < face(elem2face(t,:),3)\n",
    "    \n",
    "maynot be always true unless we use the ascend ordering in both `face` and `locFace`."
   ]
  },
  {
   "cell_type": "markdown",
   "metadata": {},
   "source": [
    "## Orientation\n",
    "\n",
    "The orientation of a tetrahedron is either positive or negative. The\n",
    "orientation of a face is given by a normal vector and the orientation of\n",
    "an edge is determined by a tangential vector. \n",
    "\n",
    "The orientation of a d-simplex will induce an orientation of its d-1 boundary\n",
    "subcomplex and is called the *induced orientation*. For example, a positive\n",
    "orientated tetrahedron will induce the outwards normal orientation of its\n",
    "four faces and a positive orientated triangle will induce the counter\n",
    "clockwise orientation of its three edges.\n",
    "\n",
    "The ordering of vertices of a simplex will naturally introduce an\n",
    "orientation and will be called the *ordering orientation*. More specifically\n",
    "\n",
    "- the vector from `edge(:,1)` to `edge(:,2)` defines an orientation of edges.\n",
    "- the `cross(v12,v13)` defines an orientation of a face, where `vij` is\n",
    "the vector from vertex `face(:,i)` to `face(:,j)`.\n",
    "- the sign of the mix product `sign(v12, v13, v14)` defines an orientation for tetrahedrons.\n",
    "\n",
    "The orientation of a simplex in the simplicial complex should be uniquely\n",
    "determined which will be called the *global orientation*. It can be chosen as\n",
    "the global ordering orientation but not always.\n",
    "\n",
    "Inside one tetrahedron, the local ordering of local edges and local faces\n",
    "will introduce a corresponding orientation. The orientation of the\n",
    "tetrahedron will also induce an orientation for its four faces. These are\n",
    "called the *local orientation* which may not be consisitent with the global\n",
    "orientation. The local ordering orientation is used in the local basis and the induced orientation is used when computing the differential operator locally.\n",
    "\n",
    "In general, there will be an inconsistency of different types of orientation and apporipate data structure should be constructured to record such inconsistency.\n",
    "\n",
    "- a global orientation\n",
    "- the global ordering orientation\n",
    "- the local ordering orientation inside a tetrahedron\n",
    "- the local induced orientation inside a tetrahedron\n",
    "\n",
    "We now discuss the orientation of elem, face, and edge separately. "
   ]
  },
  {
   "cell_type": "markdown",
   "metadata": {},
   "source": [
    "### elem\n",
    "\n",
    "The orientation of a tetraheron is either positive or negative.\n",
    "We chose the global ordering orientation, i.e., the sign of the signed\n",
    "volume computed from `elem`. \n",
    "\n",
    "    [Dlambda,volume,elemSign] = gradbasis3(node,elem);\n",
    "\n",
    "In the output of `gradbasis3`, `volume` is always positive and an\n",
    "additional array `elemSign` is used to record the sign of the signed\n",
    "volume.\n",
    "\n",
    "`Dlambda(t,:,k)` is the gradient of $\\lambda_k$ associated to vertex $k$. Therefore the outward normal direction of the kth face is `-Dlambda(t,:,k)` which is independent of the ordering and orientation of the element."
   ]
  },
  {
   "cell_type": "markdown",
   "metadata": {},
   "source": [
    "### face\n",
    "\n",
    "Again we use the global ordering orientation determined by `face`. The normal vector is given by `cross(v12,v13)`.\n",
    "\n",
    "The local ordering orientation is implicitly used when computing finite element basis in each element. For example, the RT0 basis on face `[i j k]` in `locFace` is defined as\n",
    "\n",
    "$$\\phi_{i,j,k} = 2(\\lambda_i \\nabla \\lambda_j \\times \\nabla \\lambda_k+ \\lambda_j \\nabla \\lambda_k \\times \\nabla \\lambda_i+\\lambda_k \\nabla \\lambda_i \\times \\nabla \\lambda_j).$$ \n",
    "\n",
    "Odd permutation of `[i j k]` will change the sign of the basis. The direction of $\\phi_{i,j,k}$ is the normal vector determined by `[i,j,k]` ordering. Note that this is defined locally, i.e., element by element. \n",
    "\n",
    "The global basis associated to a face, however, depends only on the global orientation of this face. We introduce `elem2faceSign(1:NT, 1:4)` to record the inconsistency of a local ordering orientation and a global orientation.\n",
    "\n",
    "For `locFace = [2 3 4; 1 4 3; 1 2 4; 1 3 2]`, i.e. the induced orientation, the `elem2faceSign` can be obtained from subroutine `dof3face` follows"
   ]
  },
  {
   "cell_type": "code",
   "execution_count": 27,
   "metadata": {},
   "outputs": [
    {
     "name": "stdout",
     "output_type": "stream",
     "text": [
      "\n",
      "elem2faceSign =\n",
      "\n",
      "     1    -1     1    -1\n",
      "     1    -1     1    -1\n",
      "     1    -1     1    -1\n",
      "     1    -1     1    -1\n",
      "    -1    -1     1     1\n",
      "    -1    -1     1     1\n",
      "\n"
     ]
    }
   ],
   "source": [
    "totalFace = [elem(:,[2 3 4]); elem(:,[1 4 3]); elem(:,[1 2 4]); elem(:,[1 3 2])];\n",
    "elem2faceSign = reshape(sum(sign(diff(totalFace(:,[1:3,1]),1,2)),2),NT,4)"
   ]
  },
  {
   "cell_type": "markdown",
   "metadata": {},
   "source": [
    "When both `elem` and `locFace` are ascend ordered, the orientation of the\n",
    "global ordering is consistent with that of the local ordering. Thus\n",
    "`elem2faceSign` is not needed for the ascending ordering in assembling the mass matrix.\n",
    "\n",
    "But for the asecond ordering system, an `elem2faceSign` will be used when assembling differential operators because the orientation for Stokes theorem is induced orientation. For example, when computing `div` operators on a positive orientated tetrahedron, the faces should be orientated by the outwards normal direction but the global faces may not be.\n",
    "\n",
    "If `elem` is positive ordered and `locFace` is consistently ordered, then this inconsistency is already recorded in `elem2faceSign`.\n",
    "\n",
    "For the ascend ordering of `elem` and `locFace`, we use $+1$ if the\n",
    "orientation of a face is the same with the induced outwords normal direction in a certain elem, and $-1$ otherwise. Then the inconsistency is given by `elem2faceSign = [1 -1 1 -1]` by comparing\n",
    "\n",
    "- The induced orientation: `locFace = [2 3 4; 1 4 3; 1 2 4; 1 3 2]`;\n",
    "- The ascend orientation:    `locFace = [2 3 4; 1 3 4; 1 2 4; 1 2 3]`.\n",
    "\n",
    "Here we use the *ascend orientation* to refer to the orientation given by the ascend ordering.\n",
    "\n",
    "In summary, \n",
    "\n",
    "- the induced orientation is favorable for computing $d\\phi$;\n",
    "- the asecond orientation is favorable for computing $(f, \\phi)$ or $(\\phi_i, \\phi_j)$."
   ]
  },
  {
   "cell_type": "markdown",
   "metadata": {},
   "source": [
    "### edge\n",
    "\n",
    "The orientation of edges is simpler than faces. Globally we always chose the global ascend ordering orientation. Namely the orientation of an edge is from the vertex with the smaller index to the larger one.\n",
    "\n",
    "Locally the local ascend ordering may not be consistent with the global one. See Lowest Order Edge Element. For the ascend ordering of `elem` and `locEdge`, the local and the global\n",
    "orientation will be consistent and no `elem2edgeSign` is needed!"
   ]
  },
  {
   "cell_type": "code",
   "execution_count": 28,
   "metadata": {},
   "outputs": [
    {
     "name": "stdout",
     "output_type": "stream",
     "text": [
      "\n",
      "elem2edgeSign =\n",
      "\n",
      "  6�6 int8 matrix\n",
      "\n",
      "    1    1    1    1    1    1\n",
      "    1    1    1    1    1    1\n",
      "    1    1    1    1    1    1\n",
      "    1    1    1    1    1    1\n",
      "    1    1    1   -1    1    1\n",
      "    1    1    1   -1    1    1\n",
      "\n"
     ]
    }
   ],
   "source": [
    "totalEdge = uint32([elem(:,[1 2]); elem(:,[1 3]); elem(:,[1 4]); ...\n",
    "                    elem(:,[2 3]); elem(:,[2 4]); elem(:,[3 4])]);\n",
    "direction = ones(6*NT,1,'int8');\n",
    "idx = (totalEdge(:,1)>totalEdge(:,2));\n",
    "direction(idx) = -1;\n",
    "elem2edgeSign = reshape(direction,NT,6)"
   ]
  },
  {
   "cell_type": "markdown",
   "metadata": {},
   "source": [
    "### face to edge\n",
    "\n",
    "For the ascend ordering `edgeofFace = [1 2; 1 3; 2 3]`, the local and the global ordering is consistent and so is the ordering orientation.\n",
    "\n",
    "Then it is not consisitent with the induced positive (counter clockwise) orientation of edges. When the edge direction is the same with the induced direction, we use sign $+1$, otherwise $-1$. Then `face2edgeSign = [+1 -1 +1]` records the inconsistency of the ascend orientation of the induced orientation.\n",
    "\n",
    "For the consistent ordering, `edgeofFace = [2 3; 3 1; 1 2]` which is consisent with the induced positive orientation but then may not be consistent with the global orientation of edges. We construct `face2edgeSign` to record such inconsistency"
   ]
  },
  {
   "cell_type": "code",
   "execution_count": 30,
   "metadata": {},
   "outputs": [
    {
     "name": "stdout",
     "output_type": "stream",
     "text": [
      "\n",
      "face2edgeSignp =\n",
      "\n",
      "     1    -1     1\n",
      "     1    -1     1\n",
      "     1    -1     1\n",
      "     1    -1     1\n",
      "     1    -1     1\n",
      "     1    -1     1\n",
      "     1    -1     1\n",
      "     1    -1     1\n",
      "     1    -1     1\n",
      "     1    -1     1\n",
      "     1    -1     1\n",
      "     1    -1     1\n",
      "     1    -1     1\n",
      "     1    -1     1\n",
      "     1    -1     1\n",
      "     1    -1     1\n",
      "     1    -1     1\n",
      "     1    -1     1\n",
      "\n"
     ]
    }
   ],
   "source": [
    "totalEdge = [face(:,[2 3]); face(:,[3 1]); face(:,[1 2])];\n",
    "direction = ones(3*NF,1);\n",
    "idx = (totalEdge(:,1)>totalEdge(:,2));\n",
    "direction(idx) = -1;\n",
    "face2edgeSignp = reshape(direction,NF,3)"
   ]
  },
  {
   "cell_type": "markdown",
   "metadata": {},
   "source": [
    "## Summary\n",
    "\n",
    "We summarize the two popular ordering and orientation schemes below.\n",
    "\n",
    "### Ascend Odering and Orientation\n",
    "\n",
    "The asecond odering and orientation is more algebraic, determined by the indices of vertices. \n",
    "\n",
    "#### Ascend ordering\n",
    "The array `elem` is sorted such that\n",
    "\n",
    "    elem(i,1) < elem(i,2) < elem(i,3) < elem(i,4)\n",
    "\n",
    "The local face and local edges is also in the ascend ordering\n",
    "\n",
    "* `locFace = [2 3 4; 1 3 4; 1 2 4; 1 2 3];`\n",
    "* `locEdge = [1 2; 1 3; 1 4; 2 3; 2 4; 3 4];`\n",
    "* `edgeofFace = [1 2; 1 3; 2 3];`\n",
    "\n",
    "Then due to the asecond ordering of `elem`, globally the `edge` and `face` also follow the ascend ordering, i.e.\n",
    "\n",
    "* `edge(e,1) < edge(e,2);` \n",
    "* `face(f,1) < face(f,2) < face(f,3).` \n",
    "\n",
    "One can easily see the benefit: the ordering of local edges and local faces is consistent with the global ones and so is their corresponding orientation.\n",
    "\n",
    "#### Orientation\n",
    "We chose the global ordering orientation for each elment. We chose the orientation corresponding to the ascend ordering for edges\n",
    "and faces. That is\n",
    "\n",
    "* `elem: sign(v12,v13,v14)`\n",
    "* `face:`  the normal vector is given by `cross(v12,v13)`\n",
    "* `edge:`  from the node with the smaller global index to the bigger one\n",
    "\n",
    "For faces and edges, the orientation of the ascend ordering and the induced orientation is not consistent. The inconsistency is recorded by\n",
    "\n",
    "* `elem2faceSign = [1 -1 1 -1];`\n",
    "* `face2edgeSign = [1 -1 1];`"
   ]
  },
  {
   "cell_type": "markdown",
   "metadata": {},
   "source": [
    "### Positive Ordering and Orientation\n",
    "\n",
    "The positive orientation and ordering is more geometrically consistent in the sense that the orientation of an element is locally consistent with the orientation of the local boundary faces. But it introduces inconsistency with the global orientation of a simplex. \n",
    "\n",
    "#### Positive and consistent ordering\n",
    "\n",
    "The vertices of `elem` is sorted such that the signed volume is always positive, i.e. the four vertices follows the right hand rule.\n",
    "\n",
    "The four faces of a tetrahedron are ordered consistently as \n",
    "\n",
    "    locFace = [2 3 4; 1 3 4; 1 2 4; 1 2 3];\n",
    "\n",
    "The six edges of a tetrahedron still ascend ordered\n",
    "\n",
    "    locEdge = [1 2; 1 3; 1 4; 2 3; 2 4; 3 4];\n",
    "\n",
    "Three edges of a face is ordered consistently\n",
    "\n",
    "    edgeofFace = [2 3; 3 1; 1 2];\n",
    "\n",
    "#### Orientation\n",
    "\n",
    "The ascend ordering orientation is used for the global orientation of `edge` and `face` arrays. The inconsistency of the local and the global orientation is recorded in\n",
    "`elem2faceSign` and `elem2edgeSign`."
   ]
  },
  {
   "cell_type": "markdown",
   "metadata": {},
   "source": [
    "### An Example \n",
    "We show two tetrahedron with the ascend ordering."
   ]
  },
  {
   "cell_type": "code",
   "execution_count": 34,
   "metadata": {},
   "outputs": [
    {
     "name": "stdout",
     "output_type": "stream",
     "text": [
      "\n",
      "elem =\n",
      "\n",
      "     1     4     5     8\n",
      "     1     4     5     7\n",
      "\n",
      "\n",
      "edge =\n",
      "\n",
      "  9�2 uint32 matrix\n",
      "\n",
      "   1   4\n",
      "   1   5\n",
      "   1   7\n",
      "   1   8\n",
      "   4   5\n",
      "   4   7\n",
      "   4   8\n",
      "   5   7\n",
      "   5   8\n",
      "\n",
      "\n",
      "face =\n",
      "\n",
      "  7�3 uint32 matrix\n",
      "\n",
      "   1   4   5\n",
      "   1   4   7\n",
      "   1   4   8\n",
      "   1   5   7\n",
      "   1   5   8\n",
      "   4   5   7\n",
      "   4   5   8\n",
      "\n",
      "\n",
      "elem2edge =\n",
      "\n",
      "  2�6 uint32 matrix\n",
      "\n",
      "   1   2   4   5   7   9\n",
      "   1   2   3   5   6   8\n",
      "\n",
      "\n",
      "elem2face =\n",
      "\n",
      "  2�4 uint32 matrix\n",
      "\n",
      "   7   5   3   1\n",
      "   6   4   2   1\n",
      "\n",
      "\n",
      "v =\n",
      "\n",
      "    0.6667\n",
      "    0.6667\n",
      "\n",
      "\n",
      "elemSign =\n",
      "\n",
      "    -1\n",
      "     1\n",
      "\n"
     ]
    },
    {
     "data": {
      "image/png": "[encoded data removed]",
      "text/plain": [
       "<IPython.core.display.Image object>"
      ]
     },
     "metadata": {},
     "output_type": "display_data"
    }
   ],
   "source": [
    "% A mesh with two tetrahedron with the ascend ordering\n",
    "elem = [1 4 5 8; 1 4 5 7];\n",
    "node = [1,0,0; 1,1,1; 1,-1,-1; 0,1,0; -2,-1,0; 1,1,-1; 0,1,1; 0,-1,-1];\n",
    "NT = size(elem,1);\n",
    "showmesh3(node,elem,[],'FaceAlpha',0.25);\n",
    "findelem3(node,elem);\n",
    "findnode3(node,elem(:));\n",
    "display(elem);\n",
    "% generate edge array\n",
    "totalEdge = uint32([elem(:,[1 2]); elem(:,[1 3]); elem(:,[1 4]); ...\n",
    "                    elem(:,[2 3]); elem(:,[2 4]); elem(:,[3 4])]);\n",
    "sortedTotalEdge = sort(totalEdge,2);\n",
    "[edge, ~, je] = unique(sortedTotalEdge,'rows');\n",
    "display(edge);\n",
    "% generate face array\n",
    "totalFace = uint32([elem(:,[2 3 4]); elem(:,[1 4 3]); ...\n",
    "                    elem(:,[1 2 4]); elem(:,[1 3 2])]);\n",
    "sortedTotalFace = sort(totalFace,2);                \n",
    "[face, i2, jf] = unique(sortedTotalFace,'rows');\n",
    "display(face);\n",
    "% generate pointers of indices\n",
    "elem2edge = uint32(reshape(je,NT,6))\n",
    "elem2face = uint32(reshape(jf,NT,4))\n",
    "% find orientation of elem\n",
    "[v,elemSign] = simplexvolume(node,elem)"
   ]
  },
  {
   "cell_type": "markdown",
   "metadata": {},
   "source": [
    "Since we are using the ascend ordering, the inconsistency with the induced orientation is \n",
    "* `elem2faceSign = [1 -1 1 -1];`\n",
    "* `face2edgeSign = [1 -1 1];`"
   ]
  },
  {
   "cell_type": "markdown",
   "metadata": {},
   "source": [
    "## Boundary Faces and Boundary Conditions\n",
    "\n",
    "We use `bdFlag` to record the boundary condition; see [Data Structure: Boundary Conditions](bddoc.html) for details. For short, `bdFlag` has the same size with `elem`, and records the boundary type of each local faces. If we change the ordering of `elem`, the corresponding local faces are changed. Threfore when we sort the `elem`, we should sort the `bdFlag` respectively. We use `sortelem3` to sort `elem` and `bdFlag` at the same time. Note that `sort(elem,2)` sorts the `elem` only, and leave\n",
    "`bdFlag` unchanged."
   ]
  },
  {
   "cell_type": "code",
   "execution_count": 35,
   "metadata": {},
   "outputs": [
    {
     "name": "stdout",
     "output_type": "stream",
     "text": [
      "\n",
      "elem =\n",
      "\n",
      "     1     2     3     7\n",
      "     1     4     3     7\n",
      "     1     5     6     7\n",
      "     1     5     8     7\n",
      "     1     2     6     7\n",
      "     1     4     8     7\n",
      "\n",
      "\n",
      "bdFlag =\n",
      "\n",
      "  6�4 uint8 matrix\n",
      "\n",
      "   1   0   0   2\n",
      "   2   0   0   2\n",
      "   2   0   0   2\n",
      "   2   0   0   2\n",
      "   1   0   0   2\n",
      "   2   0   0   2\n",
      "\n",
      "change to ascend ordering\n",
      "\n",
      "elem =\n",
      "\n",
      "     1     2     3     7\n",
      "     1     3     4     7\n",
      "     1     5     6     7\n",
      "     1     5     7     8\n",
      "     1     2     6     7\n",
      "     1     4     7     8\n",
      "\n",
      "\n",
      "bdFlag =\n",
      "\n",
      "  6�4 uint8 matrix\n",
      "\n",
      "   1   0   0   2\n",
      "   2   0   0   2\n",
      "   2   0   0   2\n",
      "   2   0   2   0\n",
      "   1   0   0   2\n",
      "   2   0   2   0\n",
      "\n"
     ]
    },
    {
     "data": {
      "image/png": "[encoded data removed]",
      "text/plain": [
       "<IPython.core.display.Image object>"
      ]
     },
     "metadata": {},
     "output_type": "display_data"
    }
   ],
   "source": [
    "[node,elem] = cubemesh([-1,1,-1,1,-1,1],2);\n",
    "bdFlag = setboundary3(node,elem,'Dirichlet','x==1','Neumann','x~=1');\n",
    "figure(2); clf;\n",
    "showmesh3(node,elem);\n",
    "display(elem); display(bdFlag);\n",
    "findnode3(node,[1,2,3,4,5,7,8]);\n",
    "display('change to ascend ordering');\n",
    "[elem,bdFlag] = sortelem3(elem,bdFlag)"
   ]
  },
  {
   "cell_type": "markdown",
   "metadata": {},
   "source": [
    "We can use `bdFlag` to find the boundary nodes, edges and faces. To find the outwords normal direction of the boundary face, we use `gradbasis3` to get `Dlambda(t,:,k)` which is the gradient of $\\lambda_k$. The outward normal direction of the kth face can be obtained by `-Dlambda(t,:,k)` which is independent of the ordering and orientation of `elem`."
   ]
  },
  {
   "cell_type": "code",
   "execution_count": 36,
   "metadata": {},
   "outputs": [
    {
     "name": "stdout",
     "output_type": "stream",
     "text": [
      "\n",
      "DirichletFace =\n",
      "\n",
      "  2�3 uint32 matrix\n",
      "\n",
      "   2   3   7\n",
      "   2   6   7\n",
      "\n",
      "\n",
      "NeumannFace =\n",
      "\n",
      "  10�3 uint32 matrix\n",
      "\n",
      "   1   2   3\n",
      "   1   2   6\n",
      "   1   3   4\n",
      "   1   4   8\n",
      "   1   5   6\n",
      "   1   5   8\n",
      "   3   4   7\n",
      "   4   7   8\n",
      "   5   6   7\n",
      "   5   7   8\n",
      "\n",
      "\n",
      "bdFaceOutDirec =\n",
      "\n",
      "     0     0    -1\n",
      "     0    -1     0\n",
      "     0     0    -1\n",
      "    -1     0     0\n",
      "     0    -1     0\n",
      "    -1     0     0\n",
      "     0     1     0\n",
      "     0     1     0\n",
      "     0     0     1\n",
      "     0     0     1\n",
      "\n"
     ]
    }
   ],
   "source": [
    "Dlambda = gradbasis3(node,elem);\n",
    "T = auxstructure3(elem);\n",
    "elem2face = T.elem2face; \n",
    "face = T.face;\n",
    "NF = size(face,1);\n",
    "if ~isempty(bdFlag)\n",
    "    % Find Dirchelt boundary faces and nodes\n",
    "    isBdFace = false(NF,1);\n",
    "    isBdFace(elem2face(bdFlag(:,1) == 1,1)) = true;\n",
    "    isBdFace(elem2face(bdFlag(:,2) == 1,2)) = true;\n",
    "    isBdFace(elem2face(bdFlag(:,3) == 1,3)) = true; \n",
    "    isBdFace(elem2face(bdFlag(:,4) == 1,4)) = true;\n",
    "    DirichletFace = face(isBdFace,:);\n",
    "    % Find outwards normal direction of Neumann boundary faces\n",
    "    bdFaceOutDirec = zeros(NF,3);\n",
    "    bdFaceOutDirec(elem2face(bdFlag(:,1) == 2,1),:) = -Dlambda(bdFlag(:,1) == 2,:,1);\n",
    "    bdFaceOutDirec(elem2face(bdFlag(:,2) == 2,2),:) = -Dlambda(bdFlag(:,2) == 2,:,2);\n",
    "    bdFaceOutDirec(elem2face(bdFlag(:,3) == 2,3),:) = -Dlambda(bdFlag(:,3) == 2,:,3);\n",
    "    bdFaceOutDirec(elem2face(bdFlag(:,4) == 2,4),:) = -Dlambda(bdFlag(:,4) == 2,:,4);\n",
    "end\n",
    "% normalize the boundary face outwards direction\n",
    "vl = sqrt(dot(bdFaceOutDirec,bdFaceOutDirec,2));\n",
    "idx = (vl==0);\n",
    "NeumannFace = face(~idx,:);\n",
    "bdFaceOutDirec(idx,:) = [];\n",
    "vl(idx) = [];\n",
    "bdFaceOutDirec = bdFaceOutDirec./[vl vl vl];\n",
    "display(DirichletFace);\n",
    "display(NeumannFace);\n",
    "display(bdFaceOutDirec);"
   ]
  }
 ],
 "metadata": {
  "kernelspec": {
   "display_name": "Matlab",
   "language": "matlab",
   "name": "matlab"
  },
  "language_info": {
   "codemirror_mode": "octave",
   "file_extension": ".m",
   "help_links": [
    {
     "text": "MetaKernel Magics",
     "url": "https://github.com/calysto/metakernel/blob/master/metakernel/magics/README.md"
    }
   ],
   "mimetype": "text/x-matlab",
   "name": "matlab",
   "version": "0.14.3"
  },
  "toc": {
   "colors": {
    "hover_highlight": "#DAA520",
    "navigate_num": "#000000",
    "navigate_text": "#333333",
    "running_highlight": "#FF0000",
    "selected_highlight": "#FFD700",
    "sidebar_border": "#EEEEEE",
    "wrapper_background": "#FFFFFF"
   },
   "moveMenuLeft": true,
   "nav_menu": {
    "height": "308px",
    "width": "416px"
   },
   "navigate_menu": true,
   "number_sections": true,
   "sideBar": true,
   "threshold": 4,
   "toc_cell": false,
   "toc_position": {
    "height": "359px",
    "left": "0px",
    "right": "1040px",
    "top": "106px",
    "width": "240px"
   },
   "toc_section_display": "none",
   "toc_window_display": false,
   "widenNotebook": false
  }
 },
 "nbformat": 4,
 "nbformat_minor": 2
}
