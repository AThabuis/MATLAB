{
 "cells": [
  {
   "cell_type": "markdown",
   "metadata": {},
   "source": [
    "# Examples on Finite Element Methods"
   ]
  },
  {
   "cell_type": "markdown",
   "metadata": {},
   "source": [
    "We collect a list of finite element methods implemented in iFEM for solving various PDEs."
   ]
  },
  {
   "cell_type": "markdown",
   "metadata": {},
   "source": [
    "## Poisson Equation 2D\n",
    "- [Poisson 2D: P1 Linear Element](Poissonfemrate.html)\n",
    "- [Poisson 2D: P2 Quadratic Element](PoissonP2femrate.html)\n",
    "- [Poisson 2D: P3 Cubic Element](PoissonP3femrate.html)\n",
    "- [Poisson 2D: CR Non-conforming Linear Element](PoissonCRfemrate.html)\n",
    "- [Poisson 2D: WG Weak Galerkin Element](PoissonWGfemrate.html)\n",
    "- [Poisson 3D: Linear Virtual Element](Poisson3vemrate.html)"
   ]
  },
  {
   "cell_type": "markdown",
   "metadata": {},
   "source": [
    "## Poisson Equation 3D\n",
    "- [Poisson 3D: P1 Linear Element](Poisson3femrate.html)\n",
    "- [Poisson 3D: P2 Quadratic Element](Poisson3P2femrate.html) \n",
    "- [Poisson 3D: CR Non-conforming Linear Element](Poisson3CRfemrate.html)\n",
    "- [Poisson 3D: WG Weak Galerkin Element](Poisson3WGfemrate.html)\n",
    "- [Poisson 3D: Linear Virtual Element](Poisson3vemrate.html)"
   ]
  },
  {
   "cell_type": "markdown",
   "metadata": {},
   "source": [
    "## Poisson Equation 2D: Mixed Formulation\n",
    "- [Poisson 2D: RT0 Element](PoissonRT0mfemrate.html)\n",
    "- [Poisson 2D: BDM1 Element](PoissonBDM1mfemrate.html) "
   ]
  },
  {
   "cell_type": "markdown",
   "metadata": {},
   "source": [
    "## Poisson Equation 3D: Mixed Formulation\n",
    "- [Poisson 3D: RT0 Element](Poisson3RT0mfemrate.html)"
   ]
  },
  {
   "cell_type": "markdown",
   "metadata": {},
   "source": [
    "## Stokes Equations\n",
    "\n",
    "## Maxwell Equations\n",
    "\n",
    "## Hodge Laplacian Equations\n",
    "\n",
    "## Cahn-Hillard Equations"
   ]
  },
  {
   "cell_type": "code",
   "execution_count": null,
   "metadata": {
    "collapsed": true
   },
   "outputs": [],
   "source": []
  }
 ],
 "metadata": {
  "kernelspec": {
   "display_name": "Matlab",
   "language": "matlab",
   "name": "matlab"
  },
  "language_info": {
   "codemirror_mode": "octave",
   "file_extension": ".m",
   "help_links": [
    {
     "text": "MetaKernel Magics",
     "url": "https://github.com/calysto/metakernel/blob/master/metakernel/magics/README.md"
    }
   ],
   "mimetype": "text/x-matlab",
   "name": "matlab",
   "version": "0.14.3"
  },
  "toc": {
   "colors": {
    "hover_highlight": "#DAA520",
    "navigate_num": "#000000",
    "navigate_text": "#333333",
    "running_highlight": "#FF0000",
    "selected_highlight": "#FFD700",
    "sidebar_border": "#EEEEEE",
    "wrapper_background": "#FFFFFF"
   },
   "moveMenuLeft": true,
   "nav_menu": {
    "height": "138px",
    "width": "252px"
   },
   "navigate_menu": true,
   "number_sections": true,
   "sideBar": true,
   "threshold": 4,
   "toc_cell": false,
   "toc_section_display": "block",
   "toc_window_display": false,
   "widenNotebook": false
  }
 },
 "nbformat": 4,
 "nbformat_minor": 2
}
